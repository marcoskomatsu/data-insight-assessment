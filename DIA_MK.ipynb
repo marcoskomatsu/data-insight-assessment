{
 "cells": [
  {
   "cell_type": "markdown",
   "metadata": {},
   "source": [
    "# Data Insight Assessment \n",
    "\n",
    "## Sobre o desafio \n",
    "De acordo com que foi passado no desafio no Github.\n",
    "\n",
    "*O desafio envolve analisar campanhas de marketing de uma institiução bancária. Nas campanhas é vendido ao cliente um produto adicional de débito automático. Queremos saber se um determinado cliente se inscreve ou não ao produto. *\n",
    "\n",
    "## Estratégia de análise\n",
    "Para a análise, dividirei em duas partes, uma parte descritiva da base, buscando entender qual é a taxa de resposta (inscrição ao produto) dentro das variáveis qualitativas e se existe diferenças significativas nelas; e a parte de desenvolvimento do modelo de propensão a se inscrever no produto. Usarei, nessa modelagem de propensão, modelos clássicos (regressão logística, árvores de decisão, floresta de decisão) e irei avaliar a qualidade dos ajustes usando métricas de avaliação baseadas na matriz de confusão e curva ROC.\n",
    "\n"
   ]
  },
  {
   "cell_type": "markdown",
   "metadata": {},
   "source": [
    "Primeiramente, iremos carregar as bibliotecas necessárias para o desenvolvimento das análises"
   ]
  },
  {
   "cell_type": "code",
   "execution_count": 1,
   "metadata": {},
   "outputs": [],
   "source": [
    "import os\n",
    "import numpy as np\n",
    "import pandas as pd\n",
    "import statsmodels.api as sm\n",
    "import matplotlib.pyplot as plt\n",
    "import seaborn as sns\n",
    "from scipy import stats\n",
    "\n",
    "from sklearn.model_selection import train_test_split, GridSearchCV, cross_val_score\n",
    "\n",
    "from sklearn.linear_model import LogisticRegression\n",
    "\n",
    "from sklearn.ensemble import RandomForestClassifier\n",
    "\n",
    "from sklearn.tree import DecisionTreeClassifier\n",
    "\n",
    "from sklearn.metrics import confusion_matrix, precision_score, recall_score, f1_score, roc_curve, roc_auc_score, mean_squared_error\n"
   ]
  },
  {
   "cell_type": "markdown",
   "metadata": {},
   "source": [
    "Vamos carregar a base e olhar as cinco primeiras linhas."
   ]
  },
  {
   "cell_type": "code",
   "execution_count": 2,
   "metadata": {},
   "outputs": [
    {
     "data": {
      "text/html": [
       "<div>\n",
       "<style scoped>\n",
       "    .dataframe tbody tr th:only-of-type {\n",
       "        vertical-align: middle;\n",
       "    }\n",
       "\n",
       "    .dataframe tbody tr th {\n",
       "        vertical-align: top;\n",
       "    }\n",
       "\n",
       "    .dataframe thead th {\n",
       "        text-align: right;\n",
       "    }\n",
       "</style>\n",
       "<table border=\"1\" class=\"dataframe\">\n",
       "  <thead>\n",
       "    <tr style=\"text-align: right;\">\n",
       "      <th></th>\n",
       "      <th>age</th>\n",
       "      <th>job</th>\n",
       "      <th>marital</th>\n",
       "      <th>education</th>\n",
       "      <th>default</th>\n",
       "      <th>balance</th>\n",
       "      <th>housing</th>\n",
       "      <th>loan</th>\n",
       "      <th>contact</th>\n",
       "      <th>day</th>\n",
       "      <th>month</th>\n",
       "      <th>duration</th>\n",
       "      <th>campaign</th>\n",
       "      <th>pdays</th>\n",
       "      <th>previous</th>\n",
       "      <th>poutcome</th>\n",
       "      <th>y</th>\n",
       "    </tr>\n",
       "  </thead>\n",
       "  <tbody>\n",
       "    <tr>\n",
       "      <th>0</th>\n",
       "      <td>58</td>\n",
       "      <td>management</td>\n",
       "      <td>married</td>\n",
       "      <td>tertiary</td>\n",
       "      <td>no</td>\n",
       "      <td>2143</td>\n",
       "      <td>yes</td>\n",
       "      <td>no</td>\n",
       "      <td>unknown</td>\n",
       "      <td>5</td>\n",
       "      <td>may</td>\n",
       "      <td>261</td>\n",
       "      <td>1</td>\n",
       "      <td>-1</td>\n",
       "      <td>0</td>\n",
       "      <td>unknown</td>\n",
       "      <td>no</td>\n",
       "    </tr>\n",
       "    <tr>\n",
       "      <th>1</th>\n",
       "      <td>44</td>\n",
       "      <td>technician</td>\n",
       "      <td>single</td>\n",
       "      <td>secondary</td>\n",
       "      <td>no</td>\n",
       "      <td>29</td>\n",
       "      <td>yes</td>\n",
       "      <td>no</td>\n",
       "      <td>unknown</td>\n",
       "      <td>5</td>\n",
       "      <td>may</td>\n",
       "      <td>151</td>\n",
       "      <td>1</td>\n",
       "      <td>-1</td>\n",
       "      <td>0</td>\n",
       "      <td>unknown</td>\n",
       "      <td>no</td>\n",
       "    </tr>\n",
       "    <tr>\n",
       "      <th>2</th>\n",
       "      <td>33</td>\n",
       "      <td>entrepreneur</td>\n",
       "      <td>married</td>\n",
       "      <td>secondary</td>\n",
       "      <td>no</td>\n",
       "      <td>2</td>\n",
       "      <td>yes</td>\n",
       "      <td>yes</td>\n",
       "      <td>unknown</td>\n",
       "      <td>5</td>\n",
       "      <td>may</td>\n",
       "      <td>76</td>\n",
       "      <td>1</td>\n",
       "      <td>-1</td>\n",
       "      <td>0</td>\n",
       "      <td>unknown</td>\n",
       "      <td>no</td>\n",
       "    </tr>\n",
       "    <tr>\n",
       "      <th>3</th>\n",
       "      <td>47</td>\n",
       "      <td>blue-collar</td>\n",
       "      <td>married</td>\n",
       "      <td>unknown</td>\n",
       "      <td>no</td>\n",
       "      <td>1506</td>\n",
       "      <td>yes</td>\n",
       "      <td>no</td>\n",
       "      <td>unknown</td>\n",
       "      <td>5</td>\n",
       "      <td>may</td>\n",
       "      <td>92</td>\n",
       "      <td>1</td>\n",
       "      <td>-1</td>\n",
       "      <td>0</td>\n",
       "      <td>unknown</td>\n",
       "      <td>no</td>\n",
       "    </tr>\n",
       "    <tr>\n",
       "      <th>4</th>\n",
       "      <td>33</td>\n",
       "      <td>unknown</td>\n",
       "      <td>single</td>\n",
       "      <td>unknown</td>\n",
       "      <td>no</td>\n",
       "      <td>1</td>\n",
       "      <td>no</td>\n",
       "      <td>no</td>\n",
       "      <td>unknown</td>\n",
       "      <td>5</td>\n",
       "      <td>may</td>\n",
       "      <td>198</td>\n",
       "      <td>1</td>\n",
       "      <td>-1</td>\n",
       "      <td>0</td>\n",
       "      <td>unknown</td>\n",
       "      <td>no</td>\n",
       "    </tr>\n",
       "  </tbody>\n",
       "</table>\n",
       "</div>"
      ],
      "text/plain": [
       "   age           job  marital  education default  balance housing loan  \\\n",
       "0   58    management  married   tertiary      no     2143     yes   no   \n",
       "1   44    technician   single  secondary      no       29     yes   no   \n",
       "2   33  entrepreneur  married  secondary      no        2     yes  yes   \n",
       "3   47   blue-collar  married    unknown      no     1506     yes   no   \n",
       "4   33       unknown   single    unknown      no        1      no   no   \n",
       "\n",
       "   contact  day month  duration  campaign  pdays  previous poutcome   y  \n",
       "0  unknown    5   may       261         1     -1         0  unknown  no  \n",
       "1  unknown    5   may       151         1     -1         0  unknown  no  \n",
       "2  unknown    5   may        76         1     -1         0  unknown  no  \n",
       "3  unknown    5   may        92         1     -1         0  unknown  no  \n",
       "4  unknown    5   may       198         1     -1         0  unknown  no  "
      ]
     },
     "execution_count": 2,
     "metadata": {},
     "output_type": "execute_result"
    }
   ],
   "source": [
    "campanhas = pd.read_csv(\"data/campaigns.csv\", index_col = 0)\n",
    "\n",
    "campanhas.head()"
   ]
  },
  {
   "cell_type": "markdown",
   "metadata": {},
   "source": [
    "Vamos checar se os tipos de dados casam com a informação necessária."
   ]
  },
  {
   "cell_type": "code",
   "execution_count": 3,
   "metadata": {},
   "outputs": [
    {
     "data": {
      "text/plain": [
       "age           int64\n",
       "job          object\n",
       "marital      object\n",
       "education    object\n",
       "default      object\n",
       "balance       int64\n",
       "housing      object\n",
       "loan         object\n",
       "contact      object\n",
       "day           int64\n",
       "month        object\n",
       "duration      int64\n",
       "campaign      int64\n",
       "pdays         int64\n",
       "previous      int64\n",
       "poutcome     object\n",
       "y            object\n",
       "dtype: object"
      ]
     },
     "execution_count": 3,
     "metadata": {},
     "output_type": "execute_result"
    }
   ],
   "source": [
    "campanhas.dtypes"
   ]
  },
  {
   "cell_type": "markdown",
   "metadata": {},
   "source": [
    "Antes de mais nada, vamos verificar qual é o percentual de clientes que se inscreveram no produto."
   ]
  },
  {
   "cell_type": "code",
   "execution_count": 4,
   "metadata": {},
   "outputs": [
    {
     "data": {
      "text/plain": [
       "y\n",
       "no     88.235439\n",
       "yes    11.764561\n",
       "Name: y, dtype: float64"
      ]
     },
     "execution_count": 4,
     "metadata": {},
     "output_type": "execute_result"
    }
   ],
   "source": [
    "100 * campanhas.groupby('y').y.count()/campanhas['y'].count()"
   ]
  },
  {
   "cell_type": "markdown",
   "metadata": {},
   "source": [
    "Cerca de 11,8% dos clientes aderiram ao produto.\n",
    "\n",
    "Podemos usar esse percentual como base para as análises descritivas."
   ]
  },
  {
   "cell_type": "markdown",
   "metadata": {},
   "source": [
    "## Análise descritiva\n",
    "\n",
    "Iniciaremos nossa análise descritiva estudando as variáveis quantitativas e sua relação com a variável resposta, e propor uma categorização dessas variáveis de tal maneira que, ao ajustar os modelos, trabalhemos com variáveis dummies ao invés do número.\n",
    "\n",
    "Primeiramente, iremos definir uma função que toma os dados da campanha, uma coluna com as variáveis qualitativas, e retorna um gráfico de barras com o percentual de inscrição e uma tabela descritiva dos dados."
   ]
  },
  {
   "cell_type": "code",
   "execution_count": 5,
   "metadata": {},
   "outputs": [],
   "source": [
    "def plotar_taxa_resposta(campanhas, coluna):\n",
    "    ### função plotar_taxa_resposta\n",
    "    ### argumentos:\n",
    "    ###  campanhas: data frame com os dados da campanha\n",
    "    ###  coluna: nome da coluna que desejamos plotar o gráfico\n",
    "    ### saída:\n",
    "    ###  objeto w com o plot do gráfico de barras com o percentual de \n",
    "    ###   taxa de adesão e a tabela com os dados\n",
    "    ###\n",
    "    ### função para desenhar um gráfico de barras de cada coluna qualitativa\n",
    "    ###  que representa o % da taxa de adesão\n",
    "    tabdinamica = pd.crosstab(campanhas[coluna],campanhas['y'])\n",
    "    tabdinamica = tabdinamica.reset_index()\n",
    "    tabdinamica.index = tabdinamica[coluna].values\n",
    "    tabdinamica = tabdinamica.drop(coluna, axis=1)\n",
    "    tabdinamica['y_rate'] = 100*tabdinamica['yes']/(tabdinamica['no']+tabdinamica['yes'])\n",
    "    tabdinamica['n_rate'] = 100-tabdinamica['y_rate'] \n",
    "    w = tabdinamica['y_rate'].plot.bar()\n",
    "    for p in w.patches:\n",
    "        w.annotate(str(np.round(p.get_height(),1))+\"%\", (p.get_x(), p.get_height()))\n",
    "\n",
    "    plt.ylabel('%')\n",
    "    \n",
    "    return w, tabdinamica"
   ]
  },
  {
   "cell_type": "markdown",
   "metadata": {},
   "source": [
    "Iremos, adicionalmente, criar uma função para facilitar a análise dos dados qualitativos."
   ]
  },
  {
   "cell_type": "code",
   "execution_count": 6,
   "metadata": {},
   "outputs": [],
   "source": [
    "def plotar_percentual(campanhas, coluna):\n",
    "    ### função plotar_percentual\n",
    "    ### argumentos:\n",
    "    ###  campanhas: data frame com os dados da campanha\n",
    "    ###  coluna: nome da coluna que desejamos plotar o gráfico\n",
    "    ### saída:\n",
    "    ###  objeto w com o plot do gráfico de barras com o percentual de \n",
    "    ###  clientes em cada nível da coluna\n",
    "    ###\n",
    "    ### função para desenhar um gráfico de barras de cada coluna qualitativa\n",
    "    ###  que representa o % em cada categoria\n",
    "    \n",
    "    # primeiro, vamos checar quais são os níveis desses fatores\n",
    "    print('{}',set(campanhas[coluna]))\n",
    "\n",
    "    # em seguida, vamos avaliar qual é a representatividade de cada fator no total da base e plotar em um gráfico\n",
    "    percentage_value = 100 * campanhas[coluna].value_counts()/campanhas[coluna].count()\n",
    "    dados_value = campanhas[coluna].value_counts()\n",
    "\n",
    "    # desenhando o gráfico de barras e colocando no eixo o %\n",
    "    w = percentage_value.plot.bar()\n",
    "\n",
    "    for p in w.patches:\n",
    "        w.annotate(str(np.round(p.get_height(),1))+\"%\", (p.get_x()-.1, p.get_height()+.15))\n",
    "    \n",
    "    plt.ylabel('%')\n",
    "    \n",
    "    return w"
   ]
  },
  {
   "cell_type": "markdown",
   "metadata": {},
   "source": [
    "Vamos dar uma analisada \"por cima\" nas variáveis quantitativas."
   ]
  },
  {
   "cell_type": "code",
   "execution_count": 7,
   "metadata": {},
   "outputs": [
    {
     "data": {
      "text/html": [
       "<div>\n",
       "<style scoped>\n",
       "    .dataframe tbody tr th:only-of-type {\n",
       "        vertical-align: middle;\n",
       "    }\n",
       "\n",
       "    .dataframe tbody tr th {\n",
       "        vertical-align: top;\n",
       "    }\n",
       "\n",
       "    .dataframe thead th {\n",
       "        text-align: right;\n",
       "    }\n",
       "</style>\n",
       "<table border=\"1\" class=\"dataframe\">\n",
       "  <thead>\n",
       "    <tr style=\"text-align: right;\">\n",
       "      <th></th>\n",
       "      <th>age</th>\n",
       "      <th>balance</th>\n",
       "      <th>day</th>\n",
       "      <th>duration</th>\n",
       "      <th>campaign</th>\n",
       "      <th>pdays</th>\n",
       "      <th>previous</th>\n",
       "    </tr>\n",
       "  </thead>\n",
       "  <tbody>\n",
       "    <tr>\n",
       "      <th>count</th>\n",
       "      <td>40690.000000</td>\n",
       "      <td>40690.000000</td>\n",
       "      <td>40690.000000</td>\n",
       "      <td>40690.000000</td>\n",
       "      <td>40690.000000</td>\n",
       "      <td>40690.000000</td>\n",
       "      <td>40690.000000</td>\n",
       "    </tr>\n",
       "    <tr>\n",
       "      <th>mean</th>\n",
       "      <td>40.905407</td>\n",
       "      <td>1359.697518</td>\n",
       "      <td>15.808405</td>\n",
       "      <td>258.243844</td>\n",
       "      <td>2.764586</td>\n",
       "      <td>40.059867</td>\n",
       "      <td>0.579405</td>\n",
       "    </tr>\n",
       "    <tr>\n",
       "      <th>std</th>\n",
       "      <td>10.604908</td>\n",
       "      <td>3034.248783</td>\n",
       "      <td>8.318281</td>\n",
       "      <td>257.577068</td>\n",
       "      <td>3.110158</td>\n",
       "      <td>100.078281</td>\n",
       "      <td>2.350664</td>\n",
       "    </tr>\n",
       "    <tr>\n",
       "      <th>min</th>\n",
       "      <td>18.000000</td>\n",
       "      <td>-8019.000000</td>\n",
       "      <td>1.000000</td>\n",
       "      <td>0.000000</td>\n",
       "      <td>1.000000</td>\n",
       "      <td>-1.000000</td>\n",
       "      <td>0.000000</td>\n",
       "    </tr>\n",
       "    <tr>\n",
       "      <th>25%</th>\n",
       "      <td>33.000000</td>\n",
       "      <td>74.000000</td>\n",
       "      <td>8.000000</td>\n",
       "      <td>103.000000</td>\n",
       "      <td>1.000000</td>\n",
       "      <td>-1.000000</td>\n",
       "      <td>0.000000</td>\n",
       "    </tr>\n",
       "    <tr>\n",
       "      <th>50%</th>\n",
       "      <td>39.000000</td>\n",
       "      <td>451.000000</td>\n",
       "      <td>16.000000</td>\n",
       "      <td>180.000000</td>\n",
       "      <td>2.000000</td>\n",
       "      <td>-1.000000</td>\n",
       "      <td>0.000000</td>\n",
       "    </tr>\n",
       "    <tr>\n",
       "      <th>75%</th>\n",
       "      <td>48.000000</td>\n",
       "      <td>1423.000000</td>\n",
       "      <td>21.000000</td>\n",
       "      <td>319.000000</td>\n",
       "      <td>3.000000</td>\n",
       "      <td>-1.000000</td>\n",
       "      <td>0.000000</td>\n",
       "    </tr>\n",
       "    <tr>\n",
       "      <th>max</th>\n",
       "      <td>95.000000</td>\n",
       "      <td>102127.000000</td>\n",
       "      <td>31.000000</td>\n",
       "      <td>4918.000000</td>\n",
       "      <td>63.000000</td>\n",
       "      <td>871.000000</td>\n",
       "      <td>275.000000</td>\n",
       "    </tr>\n",
       "  </tbody>\n",
       "</table>\n",
       "</div>"
      ],
      "text/plain": [
       "                age        balance           day      duration      campaign  \\\n",
       "count  40690.000000   40690.000000  40690.000000  40690.000000  40690.000000   \n",
       "mean      40.905407    1359.697518     15.808405    258.243844      2.764586   \n",
       "std       10.604908    3034.248783      8.318281    257.577068      3.110158   \n",
       "min       18.000000   -8019.000000      1.000000      0.000000      1.000000   \n",
       "25%       33.000000      74.000000      8.000000    103.000000      1.000000   \n",
       "50%       39.000000     451.000000     16.000000    180.000000      2.000000   \n",
       "75%       48.000000    1423.000000     21.000000    319.000000      3.000000   \n",
       "max       95.000000  102127.000000     31.000000   4918.000000     63.000000   \n",
       "\n",
       "              pdays      previous  \n",
       "count  40690.000000  40690.000000  \n",
       "mean      40.059867      0.579405  \n",
       "std      100.078281      2.350664  \n",
       "min       -1.000000      0.000000  \n",
       "25%       -1.000000      0.000000  \n",
       "50%       -1.000000      0.000000  \n",
       "75%       -1.000000      0.000000  \n",
       "max      871.000000    275.000000  "
      ]
     },
     "execution_count": 7,
     "metadata": {},
     "output_type": "execute_result"
    }
   ],
   "source": [
    "campanhas.describe()"
   ]
  },
  {
   "cell_type": "markdown",
   "metadata": {},
   "source": [
    "Não temos nenhum dado missing, o que é bastante positivo pois não precisaremos fazer imputação dos dados ou sacrificar algum dado.\n",
    "\n",
    "Desse ponto, podemos ver algumas características da base de cara:\n",
    "\n",
    "* A idade média da base é de 40 anos, sendo que a faixa etária varia de 18 a 95 anos, nada anormal dado o negócio. Podemos afirmar que metade dos clientes estão na faixa de 33 a 48 anos.\n",
    "* O balanço apresentou uma média de 1359 euros, mas com um desvio padrão de 3034 euros. Nota-se que até 25% da base possui balanço negativo e uma alta dispersão dos dados, mensurada pelo desvio padrão.\n",
    "* Em média, cada contato durou 258 segundos (4.3 minutos), mas houveram pelo menos 25% das abordagens com duração entre 319 segundos e 4918 segundos. Quando analisarmos essa variável, é razoável convertê-la para minutos, para trabalhar melhor.\n",
    "* Cerca de 3/4 da base de clientes foi abordada 3 vezes.\n",
    "* A variável pdays e previous podem ser retrabalhadas nesse contexto, dado que -1 representa que o cliente não foi abordado.marc"
   ]
  },
  {
   "cell_type": "markdown",
   "metadata": {},
   "source": [
    "Analisaremos a distribuição da **idade**, desenhando um boxplot da variável"
   ]
  },
  {
   "cell_type": "code",
   "execution_count": 8,
   "metadata": {},
   "outputs": [
    {
     "data": {
      "text/plain": [
       "Text(0.5, 1.0, 'Idade')"
      ]
     },
     "execution_count": 8,
     "metadata": {},
     "output_type": "execute_result"
    },
    {
     "data": {
      "image/png": "[encoded data removed]",
      "text/plain": [
       "<Figure size 432x288 with 1 Axes>"
      ]
     },
     "metadata": {
      "needs_background": "light"
     },
     "output_type": "display_data"
    }
   ],
   "source": [
    "sns.boxplot(campanhas['age'])\n",
    "plt.title(\"Idade\")"
   ]
  },
  {
   "cell_type": "markdown",
   "metadata": {},
   "source": [
    "Conforme comentamos, cerca de 50% da base estão concentrados na faixa de 33 a 48 anos. Os outliers, aqui, representam clientes idosos.\n",
    "\n",
    "De forma análoga, iremos desenhar o boxplot da idade em função da aquisição do produto de débito automático."
   ]
  },
  {
   "cell_type": "code",
   "execution_count": 9,
   "metadata": {},
   "outputs": [
    {
     "data": {
      "text/plain": [
       "Text(0.5, 1.0, 'Idade')"
      ]
     },
     "execution_count": 9,
     "metadata": {},
     "output_type": "execute_result"
    },
    {
     "data": {
      "image/png": "[encoded data removed]",
      "text/plain": [
       "<Figure size 432x288 with 1 Axes>"
      ]
     },
     "metadata": {
      "needs_background": "light"
     },
     "output_type": "display_data"
    }
   ],
   "source": [
    "sns.boxplot(x=campanhas['age'],y=campanhas['y'])\n",
    "plt.title(\"Idade\")"
   ]
  },
  {
   "cell_type": "markdown",
   "metadata": {},
   "source": [
    "Nota-se que a idade mediana entre quem não adquiriu e quem adquiriu não variou muito, contudo, percebe-se que a caixa do \"não\" é mais \"compacta\", indicando que a idade dos não adquirintes do produto é menor que a dos que aderiram ao produto.\n",
    "\n",
    "Vamos categorizar a idade, considerando divisões de 10 em 10 na idade até 70 anos, e criar uma coluna com essa marcação."
   ]
  },
  {
   "cell_type": "code",
   "execution_count": 10,
   "metadata": {},
   "outputs": [],
   "source": [
    "def categorizacao_idade(x):\n",
    "    ### função categorizacao_idade\n",
    "    ###  entrada:\n",
    "    ###   x : idade\n",
    "    ###  saída:\n",
    "    ###   categorização de idade\n",
    "    ###  efetua a categorização da idade conforme divisão de 10 em 10\n",
    "    \n",
    "    if x <30:\n",
    "        return(\"1 Até 30 anos\")\n",
    "    elif x >= 30 and x < 40:\n",
    "        return(\"2 De 30 a 40 anos\")\n",
    "    elif x >= 40 and x < 50:\n",
    "        return(\"3 De 40 a 50 anos\")\n",
    "    elif x >= 50 and x <60:\n",
    "        return(\"4 De 50 a 60 anos\")\n",
    "    elif x >= 60 and x <70:\n",
    "        return(\"5 De 60 a 70 anos\")\n",
    "    else: \n",
    "        return(\"6 Acima de 70 anos\")\n",
    "    \n",
    "campanhas['age_categorizado'] = campanhas['age'].apply(categorizacao_idade)"
   ]
  },
  {
   "cell_type": "markdown",
   "metadata": {},
   "source": [
    "Analisaremos a variável categorizada de idade, verificando a taxa de resposta de cada nível ."
   ]
  },
  {
   "cell_type": "code",
   "execution_count": 11,
   "metadata": {},
   "outputs": [
    {
     "data": {
      "text/plain": [
       "Text(0.5, 1.0, 'Idade')"
      ]
     },
     "execution_count": 11,
     "metadata": {},
     "output_type": "execute_result"
    },
    {
     "data": {
      "image/png": "[encoded data removed]",
      "text/plain": [
       "<Figure size 432x288 with 1 Axes>"
      ]
     },
     "metadata": {
      "needs_background": "light"
     },
     "output_type": "display_data"
    }
   ],
   "source": [
    "plotar_taxa_resposta(campanhas, 'age_categorizado')\n",
    "plt.title(\"Idade\")"
   ]
  },
  {
   "cell_type": "markdown",
   "metadata": {},
   "source": [
    "Recordando o boxplot, e considerando que cerca de 50% da base está em clientes de 30 a 50 anos, é de se notar que a maior taxa de adesão se encontra entre clientes de até 30 anos e acima de 60 anos em relação a taxa de inscrição média de 11,7%.\n",
    "\n",
    "A seguir iremos analisar o **balanço** de cada cliente. "
   ]
  },
  {
   "cell_type": "markdown",
   "metadata": {},
   "source": [
    "Recordando do que foi verificado anteriormente, vamos verficar quantos clientes tem balançopositivo ou negativo:"
   ]
  },
  {
   "cell_type": "code",
   "execution_count": 12,
   "metadata": {},
   "outputs": [
    {
     "name": "stdout",
     "output_type": "stream",
     "text": [
      "Clientes com saldo positivo:  34160 \n",
      "Clientes com saldo negativo:  3391 \n",
      "Percentual de clientes com saldo negativo:  8.33 %\n"
     ]
    }
   ],
   "source": [
    "print(\"Clientes com saldo positivo: \",campanhas[campanhas['balance']>0].balance.count(), \\\n",
    "      \"\\nClientes com saldo negativo: \",campanhas[campanhas['balance']<0].balance.count(), \\\n",
    "      \"\\nPercentual de clientes com saldo negativo: \", round(100*campanhas[campanhas['balance']<0].balance.count()/campanhas.balance.count(),2),\"%\")"
   ]
  },
  {
   "cell_type": "markdown",
   "metadata": {},
   "source": [
    "Nota-se que 3.391 clientes possuem balanço negativo, o que representa 8,3% da base.\n",
    "\n",
    "Desconsiderando os clientes de balanço negativo, vamos analisar o balanço desses clientes:"
   ]
  },
  {
   "cell_type": "code",
   "execution_count": 13,
   "metadata": {},
   "outputs": [
    {
     "data": {
      "text/plain": [
       "count     34160.000000\n",
       "mean       1651.177283\n",
       "std        3227.812078\n",
       "min           1.000000\n",
       "25%         227.000000\n",
       "50%         648.000000\n",
       "75%        1766.000000\n",
       "max      102127.000000\n",
       "Name: balance, dtype: float64"
      ]
     },
     "execution_count": 13,
     "metadata": {},
     "output_type": "execute_result"
    }
   ],
   "source": [
    "campanhas[campanhas['balance']>0].balance.describe()"
   ]
  },
  {
   "cell_type": "markdown",
   "metadata": {},
   "source": [
    "Mesmo desconsiderando os clientes com balanço negativo, nota-se que existe uma alta variabilidade no saldo, mensurado pelo desvio-padrão. Vamos desenhar o boxplot e levantar qual é o valor máximo do balanço para não ser cosniderado outlier."
   ]
  },
  {
   "cell_type": "code",
   "execution_count": 14,
   "metadata": {},
   "outputs": [
    {
     "name": "stdout",
     "output_type": "stream",
     "text": [
      "Máximo para não ser considerado outlier:  4074.5\n"
     ]
    },
    {
     "data": {
      "text/plain": [
       "Text(0.5, 1.0, 'Balanço - positivo')"
      ]
     },
     "execution_count": 14,
     "metadata": {},
     "output_type": "execute_result"
    },
    {
     "data": {
      "image/png": "[encoded data removed]",
      "text/plain": [
       "<Figure size 432x288 with 1 Axes>"
      ]
     },
     "metadata": {
      "needs_background": "light"
     },
     "output_type": "display_data"
    }
   ],
   "source": [
    "IIQ = campanhas[campanhas['balance']>0].balance.quantile(.75) - campanhas[campanhas['balance']>0].balance.quantile(.25)\n",
    "\n",
    "print(\"Máximo para não ser considerado outlier: \", campanhas[campanhas['balance']>0].balance.quantile(.75)  + 1.5 * IIQ )\n",
    "\n",
    "sns.boxplot(campanhas[campanhas['balance']>0].balance)\n",
    "plt.title(\"Balanço - positivo\")"
   ]
  },
  {
   "cell_type": "markdown",
   "metadata": {},
   "source": [
    "\n",
    "\n",
    "Iremos segmentar de acordo com os quartis essa variável e, conforme fizemos com a idade, plotar a distribuição da taxa de adesão."
   ]
  },
  {
   "cell_type": "code",
   "execution_count": 15,
   "metadata": {},
   "outputs": [],
   "source": [
    "def balanco_quantile(x):\n",
    "    ### função balanco_quantile\n",
    "    ###  entrada:\n",
    "    ###   x : balanço\n",
    "    ###  saída:\n",
    "    ###   categorização de quantil\n",
    "    ###  efetua a categorização do balanço conforme quantil\n",
    "    \n",
    "    if x < 0:\n",
    "        return(\"1 Saldo negativo\")\n",
    "    if x < 227:\n",
    "        return(\"2 Até 227 euros\")\n",
    "    if x >= 227 and x <648:\n",
    "        return(\"3 De 227 a 648 euros\")\n",
    "    if x >=648 and x < 1766:\n",
    "        return(\"4 De 648 a 1766 euros\")\n",
    "    else:\n",
    "        return(\"5 Acima de 1766 euros\")\n",
    "\n",
    "campanhas['balance_quantile'] = campanhas['balance'].apply(balanco_quantile)"
   ]
  },
  {
   "cell_type": "markdown",
   "metadata": {},
   "source": [
    "De forma analoga a idade, vamos analisar a taxa de conversão dos clientes."
   ]
  },
  {
   "cell_type": "code",
   "execution_count": 16,
   "metadata": {},
   "outputs": [
    {
     "data": {
      "text/plain": [
       "Text(0.5, 1.0, 'Balanço')"
      ]
     },
     "execution_count": 16,
     "metadata": {},
     "output_type": "execute_result"
    },
    {
     "data": {
      "image/png": "[encoded data removed]",
      "text/plain": [
       "<Figure size 432x288 with 1 Axes>"
      ]
     },
     "metadata": {
      "needs_background": "light"
     },
     "output_type": "display_data"
    }
   ],
   "source": [
    "plotar_taxa_resposta(campanhas, 'balance_quantile')\n",
    "plt.title(\"Balanço\")"
   ]
  },
  {
   "cell_type": "markdown",
   "metadata": {},
   "source": [
    "Aparentemente, temos que clientes com maior saldo apresentaram maior taxa de inscrição em relação a quem tem menos saldo ou saldo negativo. Possivelmente, ofertar um produto de débito automático para clientes com saldo negativo ou saldo baixo não seja interessante, dado que ou eles não tem fundos suficientes ou movimentam pouco a conta.\n",
    "\n",
    "A seguir, analisaremos a **duração** da ligação."
   ]
  },
  {
   "cell_type": "markdown",
   "metadata": {},
   "source": [
    "Trabalhar com a **duração da ligação** em segundos pode ser confuso dado que, conforme auferimos anteriormente, 25% dos clientes receberam ligações de até 100 segundos. Iremos trabalhar com minutos.\n",
    "\n",
    "Vamos converter esses dados e colocar em uma outra coluna, e analisar os dados com um descritivo e um boxplot."
   ]
  },
  {
   "cell_type": "code",
   "execution_count": 17,
   "metadata": {},
   "outputs": [],
   "source": [
    "campanhas['duration_min'] = campanhas['duration']/60"
   ]
  },
  {
   "cell_type": "code",
   "execution_count": 18,
   "metadata": {},
   "outputs": [
    {
     "data": {
      "text/plain": [
       "count    40690.000000\n",
       "mean         4.304064\n",
       "std          4.292951\n",
       "min          0.000000\n",
       "25%          1.716667\n",
       "50%          3.000000\n",
       "75%          5.316667\n",
       "max         81.966667\n",
       "Name: duration_min, dtype: float64"
      ]
     },
     "execution_count": 18,
     "metadata": {},
     "output_type": "execute_result"
    }
   ],
   "source": [
    "campanhas['duration_min'].describe()"
   ]
  },
  {
   "cell_type": "code",
   "execution_count": 19,
   "metadata": {},
   "outputs": [
    {
     "data": {
      "text/plain": [
       "Text(0.5, 1.0, 'Duração em minutos')"
      ]
     },
     "execution_count": 19,
     "metadata": {},
     "output_type": "execute_result"
    },
    {
     "data": {
      "image/png": "[encoded data removed]",
      "text/plain": [
       "<Figure size 432x288 with 1 Axes>"
      ]
     },
     "metadata": {
      "needs_background": "light"
     },
     "output_type": "display_data"
    }
   ],
   "source": [
    "sns.boxplot(campanhas['duration_min'])\n",
    "plt.title(\"Duração em minutos\")"
   ]
  },
  {
   "cell_type": "markdown",
   "metadata": {},
   "source": [
    "Em média, cada ligação durou 4,3 minutos, com alta variabilidade. Cerca de 50% dos clientes receberam chamados de até 3 minutos.\n",
    "\n",
    "Novamente, temos um número considerado de outliers. Vamos calcular o máximo para não ser considerado outlier."
   ]
  },
  {
   "cell_type": "code",
   "execution_count": 20,
   "metadata": {},
   "outputs": [
    {
     "name": "stdout",
     "output_type": "stream",
     "text": [
      "Máximo para não ser considerado outlier:  10.716666666666665\n"
     ]
    }
   ],
   "source": [
    "IIQ = campanhas['duration_min'].quantile(.75) - campanhas['duration_min'].quantile(.25)\n",
    "\n",
    "print(\"Máximo para não ser considerado outlier: \", campanhas['duration_min'].quantile(.75)  + 1.5 * IIQ )"
   ]
  },
  {
   "cell_type": "markdown",
   "metadata": {},
   "source": [
    "Ligações de até 10,7 minutos não são considerados outliers - considerando que ofertaremos um produto por contato telefônico, é um valor bastante razoável para ser considerado corte para valores discrepantes.\n",
    "\n",
    "Vamos analisar a influência da duração do chamado na aquisição."
   ]
  },
  {
   "cell_type": "code",
   "execution_count": 21,
   "metadata": {},
   "outputs": [
    {
     "data": {
      "text/plain": [
       "Text(0.5, 1.0, 'Duração em minutos')"
      ]
     },
     "execution_count": 21,
     "metadata": {},
     "output_type": "execute_result"
    },
    {
     "data": {
      "image/png": "[encoded data removed]",
      "text/plain": [
       "<Figure size 432x288 with 1 Axes>"
      ]
     },
     "metadata": {
      "needs_background": "light"
     },
     "output_type": "display_data"
    }
   ],
   "source": [
    "sns.boxplot(campanhas['duration_min'], campanhas['y'])\n",
    "plt.title(\"Duração em minutos\")"
   ]
  },
  {
   "cell_type": "markdown",
   "metadata": {},
   "source": [
    "Quando analisamos a duração, nota-se que claramente a duração mediana de quem adquiriu o produto é maior que de quem não adquiriu, embora o chamado mais longo foi visto no grupo de quem não fez a aquisição. \n",
    "\n",
    "Vamos categorizar considerando os quartis e o corte de valor discrepante o tempo de chamado e levantar a taxa de resposta."
   ]
  },
  {
   "cell_type": "code",
   "execution_count": 22,
   "metadata": {},
   "outputs": [],
   "source": [
    "def tempo_categorizado(x):\n",
    "    ### função tempo_categorizado\n",
    "    ###  entrada:\n",
    "    ###   x : tempo em minutos\n",
    "    ###  saída:\n",
    "    ###   categorização de quantil\n",
    "    ###  efetua a categorização do tempo conforme quantil    \n",
    "    if x < 1.7:\n",
    "        return(\"1 Até 1:40 minutos\")\n",
    "    if x >= 1.7 and x < 3:\n",
    "        return(\"2 De 1:40 a 3 minutos\")\n",
    "    if x >= 3 and x < 5.3:\n",
    "        return(\"3 De 3 a 5:20 minutos\")\n",
    "    if x >= 5.3 and x < 10:\n",
    "        return(\"4 De 5:20 a 10 minutos\")\n",
    "    else:\n",
    "        return(\"5 Acima de 10 minutos\")\n",
    "    \n",
    "campanhas['duration_categorizado'] = campanhas['duration_min'].apply(tempo_categorizado)"
   ]
  },
  {
   "cell_type": "code",
   "execution_count": 23,
   "metadata": {},
   "outputs": [
    {
     "data": {
      "text/plain": [
       "Text(0.5, 1.0, 'Duração em minutos')"
      ]
     },
     "execution_count": 23,
     "metadata": {},
     "output_type": "execute_result"
    },
    {
     "data": {
      "image/png": "[encoded data removed]",
      "text/plain": [
       "<Figure size 432x288 with 1 Axes>"
      ]
     },
     "metadata": {
      "needs_background": "light"
     },
     "output_type": "display_data"
    }
   ],
   "source": [
    "plotar_taxa_resposta(campanhas, 'duration_categorizado')\n",
    "plt.title(\"Duração em minutos\")"
   ]
  },
  {
   "cell_type": "markdown",
   "metadata": {},
   "source": [
    "É evidente a influência da duração na taxa de adesão ao produto, pois ligações acima de 5 minutos apresentaram maior taxa de inscrição. Não obstante, devemos ler esse número com cautela, pois, conforme indicamos anteriormente, algumas ligações mais longas não geraram adesão."
   ]
  },
  {
   "cell_type": "markdown",
   "metadata": {},
   "source": [
    "Vamos analisar a quantidade de campanhas (abordagens) de cada cliente. Novamente, vamos desenhar um boxplot para entender os dados."
   ]
  },
  {
   "cell_type": "code",
   "execution_count": 24,
   "metadata": {},
   "outputs": [
    {
     "data": {
      "text/plain": [
       "Text(0.5, 1.0, 'Campanhas')"
      ]
     },
     "execution_count": 24,
     "metadata": {},
     "output_type": "execute_result"
    },
    {
     "data": {
      "image/png": "[encoded data removed]",
      "text/plain": [
       "<Figure size 432x288 with 1 Axes>"
      ]
     },
     "metadata": {
      "needs_background": "light"
     },
     "output_type": "display_data"
    }
   ],
   "source": [
    "sns.boxplot(campanhas['campaign'] )\n",
    "\n",
    "plt.title(\"Campanhas\")"
   ]
  },
  {
   "cell_type": "markdown",
   "metadata": {},
   "source": [
    "Novamente, temos uma quantidade considerável de outliers. Vamos verificar qual é o corte de outliers.\n"
   ]
  },
  {
   "cell_type": "code",
   "execution_count": 25,
   "metadata": {},
   "outputs": [
    {
     "name": "stdout",
     "output_type": "stream",
     "text": [
      "Máximo para não ser considerado outlier:  6.0\n"
     ]
    }
   ],
   "source": [
    "IIQ = campanhas['campaign'].quantile(.75) - campanhas['campaign'].quantile(.25)\n",
    "\n",
    "print(\"Máximo para não ser considerado outlier: \", campanhas['campaign'].quantile(.75)  + 1.5 * IIQ )"
   ]
  },
  {
   "cell_type": "markdown",
   "metadata": {},
   "source": [
    "Vamos, então, analisar o efeito da quantidade de campanhas com a aquisição ou não do produto em questão. "
   ]
  },
  {
   "cell_type": "code",
   "execution_count": 26,
   "metadata": {},
   "outputs": [
    {
     "data": {
      "text/plain": [
       "Text(0.5, 1.0, 'Campanhas')"
      ]
     },
     "execution_count": 26,
     "metadata": {},
     "output_type": "execute_result"
    },
    {
     "data": {
      "image/png": "[encoded data removed]",
      "text/plain": [
       "<Figure size 432x288 with 1 Axes>"
      ]
     },
     "metadata": {
      "needs_background": "light"
     },
     "output_type": "display_data"
    }
   ],
   "source": [
    "sns.boxplot(campanhas['campaign'], campanhas['y'])\n",
    "\n",
    "plt.title(\"Campanhas\")"
   ]
  },
  {
   "cell_type": "markdown",
   "metadata": {},
   "source": [
    "Olhando os boxplots, não é evidente que a quantidade de campanhas tenha influência na aquisição. Contudo, verificamos que existiram clientes que não aderiram ao produto que foram abordados mais de 30 vezes - o que é uma má prática, pois pode incomodar o cliente e gerar efeito reverso.\n",
    "\n",
    "Novamente, vamos categorizar essa variável e plotar a taxa de adesão ao produto."
   ]
  },
  {
   "cell_type": "code",
   "execution_count": 27,
   "metadata": {},
   "outputs": [],
   "source": [
    "def categoriza_campanha( x): \n",
    "    ### função categoriza_campanha\n",
    "    ###  entrada:\n",
    "    ###   x : campanhas\n",
    "    ###  saída:\n",
    "    ###   categorização da quantidade de campanhas\n",
    "    ###  efetua a categorização da qtde. de campanhas se o cliente\n",
    "    ###  recebeu cinco ou mais campanhas.\n",
    "    if x > 5: \n",
    "        return '5+' \n",
    "    else :\n",
    "        return x\n",
    "    \n",
    "    \n",
    "campanhas['campaign_categorizado'] = campanhas['campaign'].apply(categoriza_campanha)"
   ]
  },
  {
   "cell_type": "code",
   "execution_count": 28,
   "metadata": {},
   "outputs": [
    {
     "data": {
      "text/plain": [
       "Text(0.5, 1.0, 'Campanhas')"
      ]
     },
     "execution_count": 28,
     "metadata": {},
     "output_type": "execute_result"
    },
    {
     "data": {
      "image/png": "[encoded data removed]",
      "text/plain": [
       "<Figure size 432x288 with 1 Axes>"
      ]
     },
     "metadata": {
      "needs_background": "light"
     },
     "output_type": "display_data"
    }
   ],
   "source": [
    "plotar_taxa_resposta(campanhas, 'campaign_categorizado')\n",
    "plt.title(\"Campanhas\")"
   ]
  },
  {
   "cell_type": "markdown",
   "metadata": {},
   "source": [
    "Aparentemente, a taxa de adesão ao produto foi menor para clientes que foram abordados mais de cinco vezes, comparado com quem foi abordado uma vez. Novamente, isso pode ser um indício de que os clientes não gostam de ser insistentemente abordados, e que existe um limite de abordagens - clientes que foram abordados duas ou três vezes apresentaram taxa de inscrição em linha com a média.\n"
   ]
  },
  {
   "cell_type": "markdown",
   "metadata": {},
   "source": [
    "Vamos verificar quantos clientes já foram abordados por alguma campanha"
   ]
  },
  {
   "cell_type": "code",
   "execution_count": 29,
   "metadata": {},
   "outputs": [
    {
     "name": "stdout",
     "output_type": "stream",
     "text": [
      "Clientes que não foram abordados anteriormente: 33279 \n",
      "Clientes abordados anteriormente:  7411\n"
     ]
    }
   ],
   "source": [
    "print(\"Clientes que não foram abordados anteriormente:\",campanhas[campanhas['previous'] == 0].pdays.count(),\\\n",
    "\"\\nClientes abordados anteriormente: \",campanhas[campanhas['previous'] > 0].pdays.count())"
   ]
  },
  {
   "cell_type": "markdown",
   "metadata": {},
   "source": [
    "Ao invés de trabalhar com o valor numérico do contato anterior ou o tempo do contato anterior, vamos criar uma variável que mostra se o cliente foi abordado anteriormente e se a abordagem foi com sucesso ou não.\n"
   ]
  },
  {
   "cell_type": "code",
   "execution_count": 30,
   "metadata": {},
   "outputs": [],
   "source": [
    "campanhas['contacted_before'] = campanhas['previous'].apply(lambda x: x>0)\n",
    "\n",
    "campanhas['poutcome'] = campanhas['poutcome'].apply(lambda x: x=='success')\n",
    "\n",
    "campanhas['contacted_before'] = campanhas.agg(lambda x: f\"Contato {x['contacted_before']} - Resultado {x['poutcome']}\", axis=1)"
   ]
  },
  {
   "cell_type": "markdown",
   "metadata": {},
   "source": [
    "Conforme fizemos com as demais variáveis, vamos analisar a taxa de resposta."
   ]
  },
  {
   "cell_type": "code",
   "execution_count": 31,
   "metadata": {},
   "outputs": [
    {
     "data": {
      "text/plain": [
       "Text(0.5, 1.0, 'Contato anterior')"
      ]
     },
     "execution_count": 31,
     "metadata": {},
     "output_type": "execute_result"
    },
    {
     "data": {
      "image/png": "[encoded data removed]",
      "text/plain": [
       "<Figure size 432x288 with 1 Axes>"
      ]
     },
     "metadata": {
      "needs_background": "light"
     },
     "output_type": "display_data"
    }
   ],
   "source": [
    "plotar_taxa_resposta(campanhas, 'contacted_before')\n",
    "plt.title(\"Contato anterior\")"
   ]
  },
  {
   "cell_type": "markdown",
   "metadata": {},
   "source": [
    "Nota-se que a taxa de resposta de quem já foi contactado uma vez é maior que de quem não foi contactado. Mais, percebe-se que quem foi abordado com sucesso teve maior taxa de adesão de quem foi abordado sem sucesso. Isso pode indicar que uma reabordagem dos clientes que já foram abordados com sucesso pode ser uma estratégia interessante para aumentar o número de clientes inscritos no produto."
   ]
  },
  {
   "cell_type": "markdown",
   "metadata": {},
   "source": [
    "Iremos agora nos debruçar nas variáveis qualitativas. Vamos analisar a **ocupação** do cliente, verificando a distribuição da variável."
   ]
  },
  {
   "cell_type": "code",
   "execution_count": 32,
   "metadata": {},
   "outputs": [
    {
     "name": "stdout",
     "output_type": "stream",
     "text": [
      "{} {'blue-collar', 'services', 'unemployed', 'management', 'unknown', 'student', 'entrepreneur', 'admin.', 'housemaid', 'technician', 'retired', 'self-employed'}\n"
     ]
    },
    {
     "data": {
      "text/plain": [
       "Text(0.5, 1.0, 'Ocupação')"
      ]
     },
     "execution_count": 32,
     "metadata": {},
     "output_type": "execute_result"
    },
    {
     "data": {
      "image/png": "[encoded data removed]",
      "text/plain": [
       "<Figure size 432x288 with 1 Axes>"
      ]
     },
     "metadata": {
      "needs_background": "light"
     },
     "output_type": "display_data"
    }
   ],
   "source": [
    "plotar_percentual(campanhas,'job')\n",
    "plt.title(\"Ocupação\")"
   ]
  },
  {
   "cell_type": "markdown",
   "metadata": {},
   "source": [
    "Cerca da metade da base ou são profissionais \"blue-collar\" ou gerentes (managment). Nota-se que 0,6% da base não possuem marcação. Podemos, sem perda de generalidade, considerá-los como desempregados na hora de montar as bases.\n",
    "\n",
    "Agora, testaremos a associação entre a ocupação e a inscrição.\n"
   ]
  },
  {
   "cell_type": "code",
   "execution_count": 33,
   "metadata": {},
   "outputs": [
    {
     "data": {
      "text/plain": [
       "Text(0.5, 1.0, 'Ocupação')"
      ]
     },
     "execution_count": 33,
     "metadata": {},
     "output_type": "execute_result"
    },
    {
     "data": {
      "image/png": "[encoded data removed]",
      "text/plain": [
       "<Figure size 432x288 with 1 Axes>"
      ]
     },
     "metadata": {
      "needs_background": "light"
     },
     "output_type": "display_data"
    }
   ],
   "source": [
    "w, tabdinamica = plotar_taxa_resposta(campanhas, 'job')\n",
    "plt.title(\"Ocupação\")"
   ]
  },
  {
   "cell_type": "markdown",
   "metadata": {},
   "source": [
    "Aparentemente, aposentados e estudantes aderiram mais ao produto do que profissionais \"blue-collar\", o que pode ser indício que o produto adicional de débito possa ser mais atrativo para esse público. Abaixo temos a tabela com a contagem dos clientes."
   ]
  },
  {
   "cell_type": "code",
   "execution_count": 34,
   "metadata": {},
   "outputs": [
    {
     "name": "stdout",
     "output_type": "stream",
     "text": [
      "y                no   yes     y_rate     n_rate\n",
      "admin.         4083   578  12.400772  87.599228\n",
      "blue-collar    8132   637   7.264226  92.735774\n",
      "entrepreneur   1226   113   8.439134  91.560866\n",
      "housemaid      1030    95   8.444444  91.555556\n",
      "management     7326  1178  13.852305  86.147695\n",
      "retired        1560   467  23.038974  76.961026\n",
      "self-employed  1255   172  12.053259  87.946741\n",
      "services       3394   331   8.885906  91.114094\n",
      "student         601   247  29.127358  70.872642\n",
      "technician     6065   753  11.044295  88.955705\n",
      "unemployed     1008   185  15.507125  84.492875\n",
      "unknown         223    31  12.204724  87.795276\n"
     ]
    }
   ],
   "source": [
    "print(tabdinamica)"
   ]
  },
  {
   "cell_type": "markdown",
   "metadata": {},
   "source": [
    "Temos evidências então que a ocupação pode ser um bom preditor para a aquisição.\n",
    "\n",
    "Vamos analisar o **estado civil**, observando a distribuição dessa variável na base.\n",
    "\n",
    "\n"
   ]
  },
  {
   "cell_type": "code",
   "execution_count": 35,
   "metadata": {},
   "outputs": [
    {
     "name": "stdout",
     "output_type": "stream",
     "text": [
      "{} {'single', 'married', 'divorced'}\n"
     ]
    },
    {
     "data": {
      "text/plain": [
       "Text(0.5, 1.0, 'Estado Civil')"
      ]
     },
     "execution_count": 35,
     "metadata": {},
     "output_type": "execute_result"
    },
    {
     "data": {
      "image/png": "[encoded data removed]",
      "text/plain": [
       "<Figure size 432x288 with 1 Axes>"
      ]
     },
     "metadata": {
      "needs_background": "light"
     },
     "output_type": "display_data"
    }
   ],
   "source": [
    "plotar_percentual(campanhas,'marital')\n",
    "plt.title(\"Estado Civil\")"
   ]
  },
  {
   "cell_type": "markdown",
   "metadata": {},
   "source": [
    "Cerca de 60% da base de clientes é composta por clientes casados. Iremos testar se o fato do cliente estar casado ou não influencia na aquisição do produto."
   ]
  },
  {
   "cell_type": "code",
   "execution_count": 36,
   "metadata": {},
   "outputs": [
    {
     "data": {
      "text/plain": [
       "Text(0.5, 1.0, 'Estado Civil')"
      ]
     },
     "execution_count": 36,
     "metadata": {},
     "output_type": "execute_result"
    },
    {
     "data": {
      "image/png": "[encoded data removed]",
      "text/plain": [
       "<Figure size 432x288 with 1 Axes>"
      ]
     },
     "metadata": {
      "needs_background": "light"
     },
     "output_type": "display_data"
    }
   ],
   "source": [
    "w, tabdinamica = plotar_taxa_resposta(campanhas, 'marital')\n",
    "plt.title(\"Estado Civil\")"
   ]
  },
  {
   "cell_type": "markdown",
   "metadata": {},
   "source": [
    "Aparentemente, clientes solteiros apresentaram maior taxa de adesão ao produto do que clientes casados. Vamos levantar a tabela dinâmica."
   ]
  },
  {
   "cell_type": "code",
   "execution_count": 37,
   "metadata": {},
   "outputs": [
    {
     "name": "stdout",
     "output_type": "stream",
     "text": [
      "y            no   yes     y_rate     n_rate\n",
      "divorced   4124   571  12.161874  87.838126\n",
      "married   21982  2482  10.145520  89.854480\n",
      "single     9797  1734  15.037724  84.962276\n"
     ]
    }
   ],
   "source": [
    "print(tabdinamica)"
   ]
  },
  {
   "cell_type": "markdown",
   "metadata": {},
   "source": [
    "De fato, o estado civil pode ser um bom preditor para a aquisição do produto.\n",
    "\n",
    "De forma análoga, iremos analisar agora o **grau de instrução**."
   ]
  },
  {
   "cell_type": "code",
   "execution_count": 38,
   "metadata": {},
   "outputs": [
    {
     "name": "stdout",
     "output_type": "stream",
     "text": [
      "{} {'unknown', 'secondary', 'tertiary', 'primary'}\n"
     ]
    },
    {
     "data": {
      "text/plain": [
       "Text(0.5, 1.0, 'Grau de Instrução')"
      ]
     },
     "execution_count": 38,
     "metadata": {},
     "output_type": "execute_result"
    },
    {
     "data": {
      "image/png": "[encoded data removed]",
      "text/plain": [
       "<Figure size 432x288 with 1 Axes>"
      ]
     },
     "metadata": {
      "needs_background": "light"
     },
     "output_type": "display_data"
    }
   ],
   "source": [
    "plotar_percentual(campanhas,'education')\n",
    "plt.title(\"Grau de Instrução\")"
   ]
  },
  {
   "cell_type": "markdown",
   "metadata": {},
   "source": [
    "Cerca de metade da base de clientes é composta por clientes que finalizaram o secundário. Existe um percentual de 4% que são desconhecidos - assumindo que o cliente deixou em branco o campo porque nenhuma das opções se encaixam em sua formação, podemos usar como uma classificação de clientes sem instrução. \n",
    "\n",
    "Iremos testar se o grau de instrução influencia na aquisição do produto."
   ]
  },
  {
   "cell_type": "code",
   "execution_count": 39,
   "metadata": {},
   "outputs": [
    {
     "data": {
      "text/plain": [
       "Text(0.5, 1.0, 'Grau de Instrução')"
      ]
     },
     "execution_count": 39,
     "metadata": {},
     "output_type": "execute_result"
    },
    {
     "data": {
      "image/png": "[encoded data removed]",
      "text/plain": [
       "<Figure size 432x288 with 1 Axes>"
      ]
     },
     "metadata": {
      "needs_background": "light"
     },
     "output_type": "display_data"
    }
   ],
   "source": [
    "w, tabdinamica = plotar_taxa_resposta(campanhas, 'education')\n",
    "plt.title(\"Grau de Instrução\")"
   ]
  },
  {
   "cell_type": "code",
   "execution_count": 40,
   "metadata": {},
   "outputs": [
    {
     "name": "stdout",
     "output_type": "stream",
     "text": [
      "y             no   yes     y_rate     n_rate\n",
      "primary     5626   527   8.564928  91.435072\n",
      "secondary  18717  2234  10.662976  89.337024\n",
      "tertiary   10123  1794  15.054124  84.945876\n",
      "unknown     1437   232  13.900539  86.099461\n"
     ]
    }
   ],
   "source": [
    "print(tabdinamica)"
   ]
  },
  {
   "cell_type": "markdown",
   "metadata": {},
   "source": [
    "Aparentemente, clientes com maior grau de instrução e, no caso, clientes sem instrução apresentaram maior taxa de adesão. "
   ]
  },
  {
   "cell_type": "markdown",
   "metadata": {},
   "source": [
    "Vamos agora analisar variáveis ligada a crédito.\n",
    "\n",
    "Primeiramente, se o cliente tem **crédito em default**. Vamos checar qual o percentual de clientes possui crédito em default."
   ]
  },
  {
   "cell_type": "code",
   "execution_count": 41,
   "metadata": {},
   "outputs": [
    {
     "name": "stdout",
     "output_type": "stream",
     "text": [
      "{} {'no', 'yes'}\n"
     ]
    },
    {
     "data": {
      "text/plain": [
       "Text(0.5, 1.0, 'Crédito em default')"
      ]
     },
     "execution_count": 41,
     "metadata": {},
     "output_type": "execute_result"
    },
    {
     "data": {
      "image/png": "[encoded data removed]",
      "text/plain": [
       "<Figure size 432x288 with 1 Axes>"
      ]
     },
     "metadata": {
      "needs_background": "light"
     },
     "output_type": "display_data"
    }
   ],
   "source": [
    "plotar_percentual(campanhas,'default')\n",
    "plt.title(\"Crédito em default\")"
   ]
  },
  {
   "cell_type": "markdown",
   "metadata": {},
   "source": [
    "Mais de 98% da base não possuem crédito em default. \n",
    "\n",
    "Dado a grande quantidade de clientes sem crédito em default, não usaremos essa variável, pois ela pode explicar pouco o fato do cliente adqurir o produto ou não.\n",
    "\n",
    "Vamos checar quantos cliente possuem **empréstimo imobiliário** e se pode ser uma melhor variável."
   ]
  },
  {
   "cell_type": "code",
   "execution_count": 42,
   "metadata": {},
   "outputs": [
    {
     "name": "stdout",
     "output_type": "stream",
     "text": [
      "{} {'no', 'yes'}\n"
     ]
    },
    {
     "data": {
      "text/plain": [
       "Text(0.5, 1.0, 'Empréstimo Imobiliario')"
      ]
     },
     "execution_count": 42,
     "metadata": {},
     "output_type": "execute_result"
    },
    {
     "data": {
      "image/png": "[encoded data removed]",
      "text/plain": [
       "<Figure size 432x288 with 1 Axes>"
      ]
     },
     "metadata": {
      "needs_background": "light"
     },
     "output_type": "display_data"
    }
   ],
   "source": [
    "plotar_percentual(campanhas,'housing')\n",
    "plt.title(\"Empréstimo Imobiliario\")"
   ]
  },
  {
   "cell_type": "markdown",
   "metadata": {},
   "source": [
    "Cerca de 55% da base de clientes possui algum tipo de empréstimo imobiliário. \n",
    "\n",
    "Iremos testar se o fato do cliente possuir empréstimo imobiliário influencia na aquisição do produto."
   ]
  },
  {
   "cell_type": "code",
   "execution_count": 43,
   "metadata": {},
   "outputs": [
    {
     "data": {
      "text/plain": [
       "Text(0.5, 1.0, 'Empréstimo Imobiliario')"
      ]
     },
     "execution_count": 43,
     "metadata": {},
     "output_type": "execute_result"
    },
    {
     "data": {
      "image/png": "[encoded data removed]",
      "text/plain": [
       "<Figure size 432x288 with 1 Axes>"
      ]
     },
     "metadata": {
      "needs_background": "light"
     },
     "output_type": "display_data"
    }
   ],
   "source": [
    "w, tabdinamica = plotar_taxa_resposta(campanhas, 'housing')\n",
    "plt.title(\"Empréstimo Imobiliario\")"
   ]
  },
  {
   "cell_type": "code",
   "execution_count": 44,
   "metadata": {},
   "outputs": [
    {
     "name": "stdout",
     "output_type": "stream",
     "text": [
      "y       no   yes     y_rate     n_rate\n",
      "no   14988  3041  16.867269  83.132731\n",
      "yes  20915  1746   7.704867  92.295133\n"
     ]
    }
   ],
   "source": [
    "print(tabdinamica)\n"
   ]
  },
  {
   "cell_type": "markdown",
   "metadata": {},
   "source": [
    "Aparentemente, clientes que não possuem empréstimo imobiliário apresentaram maior taxa de adesão ao produto do que clientes que possuem, o que pode indicar que clientes que não possuem um produto financeiro de longo prazo tem maiores chances de adquirirem o produto.\n",
    "\n",
    "Vamos, finalmente, analisar quantos clientes possuem **empréstimo pessoal**.\n"
   ]
  },
  {
   "cell_type": "code",
   "execution_count": 45,
   "metadata": {},
   "outputs": [
    {
     "name": "stdout",
     "output_type": "stream",
     "text": [
      "{} {'no', 'yes'}\n"
     ]
    },
    {
     "data": {
      "text/plain": [
       "Text(0.5, 1.0, 'Empréstimo pessoal')"
      ]
     },
     "execution_count": 45,
     "metadata": {},
     "output_type": "execute_result"
    },
    {
     "data": {
      "image/png": "[encoded data removed]",
      "text/plain": [
       "<Figure size 432x288 with 1 Axes>"
      ]
     },
     "metadata": {
      "needs_background": "light"
     },
     "output_type": "display_data"
    }
   ],
   "source": [
    "plotar_percentual(campanhas,'loan')\n",
    "plt.title(\"Empréstimo pessoal\")"
   ]
  },
  {
   "cell_type": "markdown",
   "metadata": {},
   "source": [
    "Cerca de 84% da base de clientes não possui algum tipo de empréstimo pessoal. \n",
    "\n",
    "Iremos testar se o fato do cliente possuir empréstimo influencia na aquisição do produto."
   ]
  },
  {
   "cell_type": "code",
   "execution_count": 46,
   "metadata": {},
   "outputs": [
    {
     "data": {
      "text/plain": [
       "Text(0.5, 1.0, 'Empréstimo Pessoal')"
      ]
     },
     "execution_count": 46,
     "metadata": {},
     "output_type": "execute_result"
    },
    {
     "data": {
      "image/png": "[encoded data removed]",
      "text/plain": [
       "<Figure size 432x288 with 1 Axes>"
      ]
     },
     "metadata": {
      "needs_background": "light"
     },
     "output_type": "display_data"
    }
   ],
   "source": [
    "w, tabdinamica = plotar_taxa_resposta(campanhas, 'loan')\n",
    "plt.title(\"Empréstimo Pessoal\")\n"
   ]
  },
  {
   "cell_type": "code",
   "execution_count": 47,
   "metadata": {},
   "outputs": [
    {
     "name": "stdout",
     "output_type": "stream",
     "text": [
      "y       no   yes     y_rate     n_rate\n",
      "no   29833  4344  12.710302  87.289698\n",
      "yes   6070   443   6.801781  93.198219\n"
     ]
    }
   ],
   "source": [
    "print(tabdinamica)\n"
   ]
  },
  {
   "cell_type": "markdown",
   "metadata": {},
   "source": [
    "Aparentemente, clientes sem empréstimo pessoal apresentaram maior taxa de adesão ao produto do que clientes com empréstimo.\n",
    "\n",
    "Logo, podemos afirmar que o fato do cliente possuir empréstimo ou não, independente da natureza, é uma boa variável para predizer se o cliente vai adquirir o produto ou não."
   ]
  },
  {
   "cell_type": "markdown",
   "metadata": {},
   "source": [
    "Uma variável importante para ser avaliada é o **ponto de contato** do cliente. Iremos verificar qual é o ponto de contato predominante na base."
   ]
  },
  {
   "cell_type": "code",
   "execution_count": 48,
   "metadata": {},
   "outputs": [
    {
     "name": "stdout",
     "output_type": "stream",
     "text": [
      "{} {'unknown', 'telephone', 'cellular'}\n"
     ]
    },
    {
     "data": {
      "text/plain": [
       "Text(0.5, 1.0, 'Contato')"
      ]
     },
     "execution_count": 48,
     "metadata": {},
     "output_type": "execute_result"
    },
    {
     "data": {
      "image/png": "[encoded data removed]",
      "text/plain": [
       "<Figure size 432x288 with 1 Axes>"
      ]
     },
     "metadata": {
      "needs_background": "light"
     },
     "output_type": "display_data"
    }
   ],
   "source": [
    "plotar_percentual(campanhas,'contact')\n",
    "plt.title(\"Contato\")"
   ]
  },
  {
   "cell_type": "markdown",
   "metadata": {},
   "source": [
    "Cerca de 64% da base foram contactados por celular, embora 28,9% da base o ponto de contato é desconhecido - o que, para um modelo em que avaliar o ponto de contato do cliente é importante dado que precisamos operacionalizar o contato, é ruim.\n",
    "\n",
    "Antes de prosseguir, podemos transformar essa variável em uma binária se o cliente possui ponto de contato celular ou não."
   ]
  },
  {
   "cell_type": "code",
   "execution_count": 49,
   "metadata": {},
   "outputs": [],
   "source": [
    "campanhas['contact'] = campanhas['contact'].apply(lambda x: x =='cellular')"
   ]
  },
  {
   "cell_type": "markdown",
   "metadata": {},
   "source": [
    "Seguindo com a análise, iremos avaliar a taxa de adesão do produto."
   ]
  },
  {
   "cell_type": "code",
   "execution_count": 50,
   "metadata": {},
   "outputs": [
    {
     "data": {
      "text/plain": [
       "Text(0.5, 1.0, 'Contato')"
      ]
     },
     "execution_count": 50,
     "metadata": {},
     "output_type": "execute_result"
    },
    {
     "data": {
      "image/png": "[encoded data removed]",
      "text/plain": [
       "<Figure size 432x288 with 1 Axes>"
      ]
     },
     "metadata": {
      "needs_background": "light"
     },
     "output_type": "display_data"
    }
   ],
   "source": [
    "w, tabdinamica= plotar_taxa_resposta(campanhas, 'contact')\n",
    "plt.title(\"Contato\")\n"
   ]
  },
  {
   "cell_type": "code",
   "execution_count": 51,
   "metadata": {},
   "outputs": [
    {
     "name": "stdout",
     "output_type": "stream",
     "text": [
      "y         no   yes     y_rate     n_rate\n",
      "False  13540   831   5.782479  94.217521\n",
      "True   22363  3956  15.030966  84.969034\n"
     ]
    }
   ],
   "source": [
    "print(tabdinamica)\n"
   ]
  },
  {
   "cell_type": "markdown",
   "metadata": {},
   "source": [
    "Aparentemente, clientes que foram contactado por celular apresentaram maior taxa de adesão ao produto do que clientes que foram contactados por outros meios. Quando se diz celular, o cliente pode ser abordado não apenas por telefonema, mas por SMS ou notificações push, mas no caso estamos assumindo que vai ser por meio de ligação. \n",
    "\n",
    "Outro ponto importante a ser avaliado é se existe algum dia ou mês que a taxa de conversão é maior. Vamos avaliar o dia."
   ]
  },
  {
   "cell_type": "code",
   "execution_count": 52,
   "metadata": {},
   "outputs": [
    {
     "data": {
      "text/plain": [
       "Text(0.5, 1.0, 'Taxa de conversão dia')"
      ]
     },
     "execution_count": 52,
     "metadata": {},
     "output_type": "execute_result"
    },
    {
     "data": {
      "image/png": "[encoded data removed]",
      "text/plain": [
       "<Figure size 432x288 with 1 Axes>"
      ]
     },
     "metadata": {
      "needs_background": "light"
     },
     "output_type": "display_data"
    }
   ],
   "source": [
    "w, tabdinamica = plotar_taxa_resposta(campanhas, 'day')\n",
    "plt.title(\"Taxa de conversão dia\")\n"
   ]
  },
  {
   "cell_type": "code",
   "execution_count": 53,
   "metadata": {},
   "outputs": [
    {
     "name": "stdout",
     "output_type": "stream",
     "text": [
      "y     no  yes     y_rate     n_rate\n",
      "1    207   80  27.874564  72.125436\n",
      "2    995  156  13.553432  86.446568\n",
      "3    810  165  16.923077  83.076923\n",
      "4   1095  205  15.769231  84.230769\n",
      "5   1529  199  11.516204  88.483796\n",
      "6   1574  164   9.436133  90.563867\n",
      "7   1490  146   8.924205  91.075795\n",
      "8   1460  184  11.192214  88.807786\n",
      "9   1251  163  11.527581  88.472419\n",
      "10   360  109  23.240938  76.759062\n",
      "11  1163  169  12.687688  87.312312\n",
      "12  1218  220  15.299026  84.700974\n",
      "13  1220  218  15.159944  84.840056\n",
      "14  1465  181  10.996355  89.003645\n",
      "15  1323  216  14.035088  85.964912\n",
      "16  1104  171  13.411765  86.588235\n",
      "17  1599  165   9.353741  90.646259\n",
      "18  1882  208   9.952153  90.047847\n",
      "19  1467  111   7.034221  92.965779\n",
      "20  2293  174   7.053101  92.946899\n",
      "21  1634  186  10.219780  89.780220\n",
      "22   665  143  17.698020  82.301980\n",
      "23   731  117  13.797170  86.202830\n",
      "24   349   59  14.460784  85.539216\n",
      "25   645  119  15.575916  84.424084\n",
      "26   822  108  11.612903  88.387097\n",
      "27   874  130  12.948207  87.051793\n",
      "28  1515  128   7.790627  92.209373\n",
      "29  1449  117   7.471264  92.528736\n",
      "30  1173  234  16.631130  83.368870\n",
      "31   541   42   7.204117  92.795883\n"
     ]
    }
   ],
   "source": [
    "print(tabdinamica)\n"
   ]
  },
  {
   "cell_type": "markdown",
   "metadata": {},
   "source": [
    "Notamos dois picos significativos: no dia 1 e no dia 10. Se formos analisar o fato de que clientes recebem o salário ou aposentadoria no dia 1 ou no dia 30, pode ser interessante fazer uma abordagem mais concentrada perto do dia do pagamento.\n",
    "\n",
    "Vamos analisar o mês."
   ]
  },
  {
   "cell_type": "code",
   "execution_count": 54,
   "metadata": {},
   "outputs": [
    {
     "data": {
      "text/plain": [
       "Text(0.5, 1.0, 'Mês')"
      ]
     },
     "execution_count": 54,
     "metadata": {},
     "output_type": "execute_result"
    },
    {
     "data": {
      "image/png": "[encoded data removed]",
      "text/plain": [
       "<Figure size 432x288 with 1 Axes>"
      ]
     },
     "metadata": {
      "needs_background": "light"
     },
     "output_type": "display_data"
    }
   ],
   "source": [
    "w, tabdinamica = plotar_taxa_resposta(campanhas, 'month')\n",
    "plt.title(\"Mês\")"
   ]
  },
  {
   "cell_type": "code",
   "execution_count": 55,
   "metadata": {},
   "outputs": [
    {
     "name": "stdout",
     "output_type": "stream",
     "text": [
      "y       no  yes     y_rate     n_rate\n",
      "apr   2124  522  19.727891  80.272109\n",
      "aug   4977  629  11.220121  88.779879\n",
      "dec    101   92  47.668394  52.331606\n",
      "feb   1966  397  16.800677  83.199323\n",
      "jan   1141  127  10.015773  89.984227\n",
      "jul   5641  573   9.221114  90.778886\n",
      "jun   4358  490  10.107261  89.892739\n",
      "mar    197  227  53.537736  46.462264\n",
      "may  11575  838   6.750987  93.249013\n",
      "nov   3168  367  10.381895  89.618105\n",
      "oct    375  285  43.181818  56.818182\n",
      "sep    280  240  46.153846  53.846154\n"
     ]
    }
   ],
   "source": [
    "print(tabdinamica)\n"
   ]
  },
  {
   "cell_type": "markdown",
   "metadata": {},
   "source": [
    "Temos destacadamente quatro picos: março, setembro, outubro e dezembro.\n"
   ]
  },
  {
   "cell_type": "markdown",
   "metadata": {},
   "source": [
    "## Treinando o modelo"
   ]
  },
  {
   "cell_type": "markdown",
   "metadata": {},
   "source": [
    "Para treinarmos os modelos, iremos criar uma segunda tabela, desconsiderando as colunas que não iremos utilizar."
   ]
  },
  {
   "cell_type": "code",
   "execution_count": 56,
   "metadata": {},
   "outputs": [],
   "source": [
    "campanhas_treinomodelo = campanhas.drop([\"default\",\n",
    "                                         \"age\",\"balance\",\"duration\",\"campaign\",\"pdays\",\"previous\",\"poutcome\",'duration_min'],axis=1)"
   ]
  },
  {
   "cell_type": "markdown",
   "metadata": {},
   "source": [
    "Vamos então transformar as variáveis qualitativas em dummies. \n",
    "\n",
    "Podemos usar o One Hot Encoder, mas preferi usar o get_dummies, porque vou poder ter controle de quais variáveis vou remover para tomar como referência."
   ]
  },
  {
   "cell_type": "code",
   "execution_count": 57,
   "metadata": {},
   "outputs": [],
   "source": [
    "campanhas_fulldummies = pd.get_dummies(campanhas_treinomodelo, prefix_sep=\"_\", columns=['job', 'marital', 'education', 'housing', 'loan', 'contact', 'day',\n",
    "       'month', \n",
    "                                                                                        'y', 'age_categorizado', 'balance_quantile',\n",
    "       'duration_categorizado', \n",
    "                                                                                        'campaign_categorizado', 'contacted_before'])"
   ]
  },
  {
   "cell_type": "markdown",
   "metadata": {},
   "source": [
    "Aqui vou remover as colunas referentes as variáveis de referência."
   ]
  },
  {
   "cell_type": "code",
   "execution_count": 58,
   "metadata": {},
   "outputs": [],
   "source": [
    "campanhas_fulldummies = campanhas_fulldummies.drop(['job_unknown','job_unemployed','y_no', 'marital_single','education_unknown','housing_no',\n",
    "                                                    'loan_no', 'day_1', 'month_jan', 'age_categorizado_1 Até 30 anos',\n",
    "                            'balance_quantile_1 Saldo negativo','duration_categorizado_1 Até 1:40 minutos','campaign_categorizado_1',\n",
    "                            'contacted_before_Contato False - Resultado False','contact_False'], axis=1)\n",
    "\n"
   ]
  },
  {
   "cell_type": "markdown",
   "metadata": {},
   "source": [
    "Aqui, separo a variável resposta da explicativa."
   ]
  },
  {
   "cell_type": "code",
   "execution_count": 59,
   "metadata": {},
   "outputs": [],
   "source": [
    "resposta = campanhas_fulldummies['y_yes']\n",
    "explicativas = campanhas_fulldummies.drop('y_yes', axis=1)"
   ]
  },
  {
   "cell_type": "markdown",
   "metadata": {},
   "source": [
    "Para ajustar os modelos, precisamos dividir uma amostra de teste e de treino. Vamos usar um train-test split de 75%"
   ]
  },
  {
   "cell_type": "code",
   "execution_count": 60,
   "metadata": {},
   "outputs": [],
   "source": [
    "X_treino, X_teste, y_treino, y_teste = train_test_split(explicativas, resposta, test_size=0.25, random_state=171)"
   ]
  },
  {
   "cell_type": "markdown",
   "metadata": {},
   "source": [
    "Primeiramente, iremos ajustar um modelo clássico de **regressão logística**. Esse modelo é interessante pela interpretabilidade dos seus parâmetros, pois podemos analisar cada parâmetro em função do odds ratio do modelo.\n",
    "\n",
    "Para a seleção de quantidade de variáveis, irei avaliar a significância de cada, rodando o modelo saturado e removendo as variáveis não significantes\n"
   ]
  },
  {
   "cell_type": "code",
   "execution_count": 61,
   "metadata": {},
   "outputs": [
    {
     "name": "stderr",
     "output_type": "stream",
     "text": [
      "/Users/johndoe/opt/anaconda3/lib/python3.7/site-packages/statsmodels/discrete/discrete_model.py:1747: RuntimeWarning: overflow encountered in exp\n",
      "  return 1/(1+np.exp(-X))\n",
      "/Users/johndoe/opt/anaconda3/lib/python3.7/site-packages/statsmodels/discrete/discrete_model.py:1800: RuntimeWarning: divide by zero encountered in log\n",
      "  return np.sum(np.log(self.cdf(q*np.dot(X,params))))\n"
     ]
    },
    {
     "name": "stdout",
     "output_type": "stream",
     "text": [
      "Optimization terminated successfully.\n",
      "         Current function value: inf\n",
      "         Iterations 8\n"
     ]
    },
    {
     "name": "stderr",
     "output_type": "stream",
     "text": [
      "/Users/johndoe/opt/anaconda3/lib/python3.7/site-packages/statsmodels/base/model.py:548: HessianInversionWarning: Inverting hessian failed, no bse or cov_params available\n",
      "  'available', HessianInversionWarning)\n"
     ]
    },
    {
     "name": "stdout",
     "output_type": "stream",
     "text": [
      "                           Logit Regression Results                           \n",
      "==============================================================================\n",
      "Dep. Variable:                  y_yes   No. Observations:                30517\n",
      "Model:                          Logit   Df Residuals:                    30438\n",
      "Method:                           MLE   Df Model:                           78\n",
      "Date:                Mon, 29 Jun 2020   Pseudo R-squ.:                     inf\n",
      "Time:                        21:29:13   Log-Likelihood:                   -inf\n",
      "converged:                       True   LL-Null:                        0.0000\n",
      "Covariance Type:            nonrobust   LLR p-value:                     1.000\n",
      "===================================================================================================================\n",
      "                                                      coef    std err          z      P>|z|      [0.025      0.975]\n",
      "-------------------------------------------------------------------------------------------------------------------\n",
      "job_admin.                                         -0.2675      0.114     -2.341      0.019      -0.491      -0.044\n",
      "job_blue-collar                                    -0.6180      0.112     -5.500      0.000      -0.838      -0.398\n",
      "job_entrepreneur                                   -0.6694      0.167     -4.004      0.000      -0.997      -0.342\n",
      "job_housemaid                                      -0.7266      0.175     -4.141      0.000      -1.071      -0.383\n",
      "job_management                                     -0.3293      0.112     -2.937      0.003      -0.549      -0.110\n",
      "job_retired                                        -0.3823      0.147     -2.604      0.009      -0.670      -0.095\n",
      "job_self-employed                                  -0.6406      0.154     -4.154      0.000      -0.943      -0.338\n",
      "job_services                                       -0.6220      0.126     -4.944      0.000      -0.869      -0.375\n",
      "job_student                                        -0.2107      0.149     -1.413      0.158      -0.503       0.081\n",
      "job_technician                                     -0.3953      0.110     -3.588      0.000      -0.611      -0.179\n",
      "marital_divorced                                    0.0382      0.081      0.469      0.639      -0.121       0.198\n",
      "marital_married                                    -0.1995      0.056     -3.556      0.000      -0.309      -0.090\n",
      "education_primary                                  -0.6645      0.114     -5.838      0.000      -0.888      -0.441\n",
      "education_secondary                                -0.5208      0.097     -5.363      0.000      -0.711      -0.330\n",
      "education_tertiary                                 -0.4027      0.104     -3.865      0.000      -0.607      -0.198\n",
      "housing_yes                                        -0.6724      0.053    -12.575      0.000      -0.777      -0.568\n",
      "loan_yes                                           -0.4446      0.073     -6.087      0.000      -0.588      -0.301\n",
      "contact_True                                        0.6178      0.065      9.472      0.000       0.490       0.746\n",
      "day_2                                              -2.1221      0.190    -11.196      0.000      -2.494      -1.751\n",
      "day_3                                              -1.9730      0.188    -10.489      0.000      -2.342      -1.604\n",
      "day_4                                              -2.0695      0.180    -11.519      0.000      -2.422      -1.717\n",
      "day_5                                              -2.2783      0.177    -12.866      0.000      -2.625      -1.931\n",
      "day_6                                              -2.2226      0.181    -12.250      0.000      -2.578      -1.867\n",
      "day_7                                              -2.2453      0.186    -12.089      0.000      -2.609      -1.881\n",
      "day_8                                              -2.1144      0.181    -11.705      0.000      -2.468      -1.760\n",
      "day_9                                              -2.1666      0.187    -11.580      0.000      -2.533      -1.800\n",
      "day_10                                             -1.6263      0.219     -7.410      0.000      -2.056      -1.196\n",
      "day_11                                             -2.0285      0.185    -10.994      0.000      -2.390      -1.667\n",
      "day_12                                             -1.8275      0.177    -10.299      0.000      -2.175      -1.480\n",
      "day_13                                             -1.6503      0.178     -9.280      0.000      -1.999      -1.302\n",
      "day_14                                             -1.9255      0.181    -10.634      0.000      -2.280      -1.571\n",
      "day_15                                             -1.7548      0.179     -9.786      0.000      -2.106      -1.403\n",
      "day_16                                             -1.9280      0.182    -10.592      0.000      -2.285      -1.571\n",
      "day_17                                             -2.5128      0.182    -13.835      0.000      -2.869      -2.157\n",
      "day_18                                             -2.1553      0.176    -12.271      0.000      -2.500      -1.811\n",
      "day_19                                             -2.6928      0.196    -13.758      0.000      -3.076      -2.309\n",
      "day_20                                             -2.4651      0.178    -13.859      0.000      -2.814      -2.117\n",
      "day_21                                             -2.1764      0.182    -11.987      0.000      -2.532      -1.821\n",
      "day_22                                             -1.7355      0.196     -8.873      0.000      -2.119      -1.352\n",
      "day_23                                             -1.6932      0.203     -8.329      0.000      -2.092      -1.295\n",
      "day_24                                             -1.6881      0.241     -6.996      0.000      -2.161      -1.215\n",
      "day_25                                             -1.7441      0.202     -8.629      0.000      -2.140      -1.348\n",
      "day_26                                             -1.8657      0.200     -9.324      0.000      -2.258      -1.474\n",
      "day_27                                             -1.6225      0.191     -8.481      0.000      -1.998      -1.248\n",
      "day_28                                             -2.5121      0.184    -13.648      0.000      -2.873      -2.151\n",
      "day_29                                             -2.7074      0.187    -14.505      0.000      -3.073      -2.342\n",
      "day_30                                             -1.7879      0.168    -10.651      0.000      -2.117      -1.459\n",
      "day_31                                             -1.9688      0.269     -7.311      0.000      -2.497      -1.441\n",
      "month_apr                                           0.1456      0.135      1.078      0.281      -0.119       0.410\n",
      "month_aug                                          -0.3385      0.133     -2.542      0.011      -0.599      -0.078\n",
      "month_dec                                           0.7707      0.241      3.197      0.001       0.298       1.243\n",
      "month_feb                                          -0.0773      0.146     -0.530      0.596      -0.363       0.209\n",
      "month_jul                                          -0.6688      0.130     -5.154      0.000      -0.923      -0.414\n",
      "month_jun                                          -0.0641      0.136     -0.471      0.638      -0.331       0.203\n",
      "month_mar                                           1.8620      0.177     10.545      0.000       1.516       2.208\n",
      "month_may                                          -0.6383      0.127     -5.027      0.000      -0.887      -0.389\n",
      "month_nov                                          -0.3516      0.148     -2.383      0.017      -0.641      -0.062\n",
      "month_oct                                           0.9240      0.161      5.750      0.000       0.609       1.239\n",
      "month_sep                                           0.6036      0.174      3.469      0.001       0.263       0.945\n",
      "age_categorizado_2 De 30 a 40 anos                 -0.5780      0.069     -8.360      0.000      -0.713      -0.442\n",
      "age_categorizado_3 De 40 a 50 anos                 -0.6199      0.081     -7.679      0.000      -0.778      -0.462\n",
      "age_categorizado_4 De 50 a 60 anos                 -0.7182      0.091     -7.891      0.000      -0.897      -0.540\n",
      "age_categorizado_5 De 60 a 70 anos                  0.0618      0.139      0.444      0.657      -0.211       0.335\n",
      "age_categorizado_6 Acima de 70 anos                 0.2187      0.187      1.169      0.242      -0.148       0.585\n",
      "balance_quantile_2 Até 227 euros                   -0.3769      0.093     -4.074      0.000      -0.558      -0.196\n",
      "balance_quantile_3 De 227 a 648 euros              -0.2163      0.094     -2.299      0.022      -0.401      -0.032\n",
      "balance_quantile_4 De 648 a 1766 euros             -0.1976      0.094     -2.105      0.035      -0.382      -0.014\n",
      "balance_quantile_5 Acima de 1766 euros             -0.0105      0.094     -0.112      0.911      -0.195       0.174\n",
      "duration_categorizado_2 De 1:40 a 3 minutos         0.7803      0.103      7.606      0.000       0.579       0.981\n",
      "duration_categorizado_3 De 3 a 5:20 minutos         1.6305      0.096     16.982      0.000       1.442       1.819\n",
      "duration_categorizado_4 De 5:20 a 10 minutos        2.4190      0.096     25.119      0.000       2.230       2.608\n",
      "duration_categorizado_5 Acima de 10 minutos         4.2613      0.100     42.686      0.000       4.066       4.457\n",
      "campaign_categorizado_2                            -0.3865      0.054     -7.104      0.000      -0.493      -0.280\n",
      "campaign_categorizado_3                            -0.2583      0.072     -3.579      0.000      -0.400      -0.117\n",
      "campaign_categorizado_4                            -0.2729      0.090     -3.030      0.002      -0.449      -0.096\n",
      "campaign_categorizado_5                            -0.5665      0.137     -4.144      0.000      -0.834      -0.299\n",
      "campaign_categorizado_5+                           -0.5379      0.100     -5.357      0.000      -0.735      -0.341\n",
      "contacted_before_Contato True - Resultado False     0.2732      0.062      4.401      0.000       0.152       0.395\n",
      "contacted_before_Contato True - Resultado True      2.3681      0.084     28.214      0.000       2.204       2.533\n",
      "===================================================================================================================\n"
     ]
    },
    {
     "name": "stderr",
     "output_type": "stream",
     "text": [
      "/Users/johndoe/opt/anaconda3/lib/python3.7/site-packages/statsmodels/base/model.py:548: HessianInversionWarning: Inverting hessian failed, no bse or cov_params available\n",
      "  'available', HessianInversionWarning)\n"
     ]
    }
   ],
   "source": [
    "#instancio o modelo de regressão logistica\n",
    "regressao_logistica = LogisticRegression( max_iter=300)\n",
    "\n",
    "#ajusto o modelo de regressao logistica com os parâmetros padrão\n",
    "modelo_reglog = sm.Logit(y_treino, X_treino).fit()\n",
    "\n",
    "#analiso os resultados do modelo saturado\n",
    "print(modelo_reglog.summary())"
   ]
  },
  {
   "cell_type": "markdown",
   "metadata": {},
   "source": [
    "Admitindo um nível de significância de 5%, e repetindo o procedimento de avaliar a significância de cada parâmetro, reajustar e ir removendo, chegamos ao modelo ajustado. Elencamos as variáveis que deixaremos de lado no modelo, e reajustaremos o modelo.\n"
   ]
  },
  {
   "cell_type": "code",
   "execution_count": 62,
   "metadata": {},
   "outputs": [
    {
     "name": "stderr",
     "output_type": "stream",
     "text": [
      "/Users/johndoe/opt/anaconda3/lib/python3.7/site-packages/statsmodels/discrete/discrete_model.py:1747: RuntimeWarning: overflow encountered in exp\n",
      "  return 1/(1+np.exp(-X))\n",
      "/Users/johndoe/opt/anaconda3/lib/python3.7/site-packages/statsmodels/discrete/discrete_model.py:1800: RuntimeWarning: divide by zero encountered in log\n",
      "  return np.sum(np.log(self.cdf(q*np.dot(X,params))))\n"
     ]
    },
    {
     "name": "stdout",
     "output_type": "stream",
     "text": [
      "Optimization terminated successfully.\n",
      "         Current function value: inf\n",
      "         Iterations 8\n"
     ]
    },
    {
     "name": "stderr",
     "output_type": "stream",
     "text": [
      "/Users/johndoe/opt/anaconda3/lib/python3.7/site-packages/statsmodels/base/model.py:548: HessianInversionWarning: Inverting hessian failed, no bse or cov_params available\n",
      "  'available', HessianInversionWarning)\n"
     ]
    },
    {
     "name": "stdout",
     "output_type": "stream",
     "text": [
      "                           Logit Regression Results                           \n",
      "==============================================================================\n",
      "Dep. Variable:                  y_yes   No. Observations:                30517\n",
      "Model:                          Logit   Df Residuals:                    30452\n",
      "Method:                           MLE   Df Model:                           64\n",
      "Date:                Mon, 29 Jun 2020   Pseudo R-squ.:                     inf\n",
      "Time:                        21:29:14   Log-Likelihood:                   -inf\n",
      "converged:                       True   LL-Null:                        0.0000\n",
      "Covariance Type:            nonrobust   LLR p-value:                     1.000\n",
      "===================================================================================================================\n",
      "                                                      coef    std err          z      P>|z|      [0.025      0.975]\n",
      "-------------------------------------------------------------------------------------------------------------------\n",
      "job_blue-collar                                    -0.3326      0.069     -4.837      0.000      -0.467      -0.198\n",
      "job_entrepreneur                                   -0.3743      0.140     -2.667      0.008      -0.649      -0.099\n",
      "job_housemaid                                      -0.4385      0.150     -2.920      0.003      -0.733      -0.144\n",
      "job_self-employed                                  -0.3373      0.122     -2.762      0.006      -0.577      -0.098\n",
      "job_services                                       -0.3315      0.088     -3.756      0.000      -0.504      -0.159\n",
      "marital_married                                    -0.2111      0.046     -4.591      0.000      -0.301      -0.121\n",
      "education_primary                                  -0.7253      0.109     -6.679      0.000      -0.938      -0.512\n",
      "education_secondary                                -0.6201      0.091     -6.804      0.000      -0.799      -0.441\n",
      "education_tertiary                                 -0.5221      0.094     -5.563      0.000      -0.706      -0.338\n",
      "housing_yes                                        -0.6795      0.052    -13.105      0.000      -0.781      -0.578\n",
      "loan_yes                                           -0.4613      0.072     -6.403      0.000      -0.602      -0.320\n",
      "contact_True                                        0.6241      0.059     10.515      0.000       0.508       0.740\n",
      "day_2                                              -2.4004      0.163    -14.685      0.000      -2.721      -2.080\n",
      "day_3                                              -2.2312      0.165    -13.558      0.000      -2.554      -1.909\n",
      "day_4                                              -2.3218      0.155    -14.981      0.000      -2.626      -2.018\n",
      "day_5                                              -2.5391      0.153    -16.647      0.000      -2.838      -2.240\n",
      "day_6                                              -2.4621      0.161    -15.318      0.000      -2.777      -2.147\n",
      "day_7                                              -2.4562      0.168    -14.602      0.000      -2.786      -2.126\n",
      "day_8                                              -2.3261      0.162    -14.367      0.000      -2.643      -2.009\n",
      "day_9                                              -2.3905      0.167    -14.354      0.000      -2.717      -2.064\n",
      "day_10                                             -1.8314      0.203     -9.010      0.000      -2.230      -1.433\n",
      "day_11                                             -2.2584      0.165    -13.703      0.000      -2.581      -1.935\n",
      "day_12                                             -2.0488      0.157    -13.013      0.000      -2.357      -1.740\n",
      "day_13                                             -1.8638      0.159    -11.701      0.000      -2.176      -1.552\n",
      "day_14                                             -2.1343      0.163    -13.122      0.000      -2.453      -1.816\n",
      "day_15                                             -1.9573      0.161    -12.194      0.000      -2.272      -1.643\n",
      "day_16                                             -2.1326      0.161    -13.240      0.000      -2.448      -1.817\n",
      "day_17                                             -2.7025      0.160    -16.894      0.000      -3.016      -2.389\n",
      "day_18                                             -2.3884      0.155    -15.375      0.000      -2.693      -2.084\n",
      "day_19                                             -2.9116      0.178    -16.385      0.000      -3.260      -2.563\n",
      "day_20                                             -2.6463      0.157    -16.908      0.000      -2.953      -2.340\n",
      "day_21                                             -2.3738      0.163    -14.565      0.000      -2.693      -2.054\n",
      "day_22                                             -1.9510      0.178    -10.957      0.000      -2.300      -1.602\n",
      "day_23                                             -1.9009      0.187    -10.143      0.000      -2.268      -1.534\n",
      "day_24                                             -1.8980      0.226     -8.394      0.000      -2.341      -1.455\n",
      "day_25                                             -1.9779      0.186    -10.620      0.000      -2.343      -1.613\n",
      "day_26                                             -2.0886      0.183    -11.432      0.000      -2.447      -1.730\n",
      "day_27                                             -1.8436      0.174    -10.568      0.000      -2.186      -1.502\n",
      "day_28                                             -2.7472      0.170    -16.128      0.000      -3.081      -2.413\n",
      "day_29                                             -2.9389      0.174    -16.873      0.000      -3.280      -2.597\n",
      "day_30                                             -1.9630      0.151    -13.012      0.000      -2.259      -1.667\n",
      "day_31                                             -2.1662      0.258     -8.407      0.000      -2.671      -1.661\n",
      "month_aug                                          -0.3641      0.080     -4.546      0.000      -0.521      -0.207\n",
      "month_dec                                           0.7543      0.218      3.454      0.001       0.326       1.182\n",
      "month_jul                                          -0.6930      0.082     -8.472      0.000      -0.853      -0.533\n",
      "month_mar                                           1.8595      0.140     13.244      0.000       1.584       2.135\n",
      "month_may                                          -0.6579      0.072     -9.104      0.000      -0.800      -0.516\n",
      "month_nov                                          -0.3494      0.098     -3.552      0.000      -0.542      -0.157\n",
      "month_oct                                           0.9071      0.125      7.243      0.000       0.662       1.153\n",
      "month_sep                                           0.5805      0.140      4.155      0.000       0.307       0.854\n",
      "age_categorizado_2 De 30 a 40 anos                 -0.6197      0.059    -10.576      0.000      -0.735      -0.505\n",
      "age_categorizado_3 De 40 a 50 anos                 -0.6570      0.067     -9.856      0.000      -0.788      -0.526\n",
      "age_categorizado_4 De 50 a 60 anos                 -0.7584      0.073    -10.367      0.000      -0.902      -0.615\n",
      "balance_quantile_2 Até 227 euros                   -0.2613      0.052     -5.038      0.000      -0.363      -0.160\n",
      "duration_categorizado_2 De 1:40 a 3 minutos         0.7332      0.099      7.403      0.000       0.539       0.927\n",
      "duration_categorizado_3 De 3 a 5:20 minutos         1.5834      0.093     17.110      0.000       1.402       1.765\n",
      "duration_categorizado_4 De 5:20 a 10 minutos        2.3769      0.093     25.613      0.000       2.195       2.559\n",
      "duration_categorizado_5 Acima de 10 minutos         4.2256      0.097     43.715      0.000       4.036       4.415\n",
      "campaign_categorizado_2                            -0.3979      0.054     -7.339      0.000      -0.504      -0.292\n",
      "campaign_categorizado_3                            -0.2676      0.072     -3.720      0.000      -0.409      -0.127\n",
      "campaign_categorizado_4                            -0.2906      0.090     -3.239      0.001      -0.466      -0.115\n",
      "campaign_categorizado_5                            -0.5798      0.136     -4.260      0.000      -0.847      -0.313\n",
      "campaign_categorizado_5+                           -0.5565      0.100     -5.577      0.000      -0.752      -0.361\n",
      "contacted_before_Contato True - Resultado False     0.2788      0.062      4.514      0.000       0.158       0.400\n",
      "contacted_before_Contato True - Resultado True      2.3648      0.084     28.301      0.000       2.201       2.529\n",
      "===================================================================================================================\n"
     ]
    },
    {
     "name": "stderr",
     "output_type": "stream",
     "text": [
      "/Users/johndoe/opt/anaconda3/lib/python3.7/site-packages/statsmodels/base/model.py:548: HessianInversionWarning: Inverting hessian failed, no bse or cov_params available\n",
      "  'available', HessianInversionWarning)\n"
     ]
    }
   ],
   "source": [
    "#removo as variáveis não significativas\n",
    "X_treino1 = X_treino.drop(['job_student',\n",
    "                           'job_admin.',\n",
    "                           'job_retired',\n",
    "                           'balance_quantile_3 De 227 a 648 euros',\n",
    "                           'job_management',\n",
    "                           'job_technician',\n",
    "                           'balance_quantile_4 De 648 a 1766 euros',\n",
    "                           'balance_quantile_5 Acima de 1766 euros'  ,\n",
    "                           'marital_divorced' ,\n",
    "                           'month_apr'  ,\n",
    "                           'month_feb',\n",
    "                           'month_jun'  ,\n",
    "                           'age_categorizado_5 De 60 a 70 anos'   ,    \n",
    "                           'age_categorizado_6 Acima de 70 anos' ], axis=1)\n",
    "\n",
    "#ajusto o modelo de regressao logistica com os parâmetros padrão\n",
    "modelo_reglog = sm.Logit(y_treino, X_treino1).fit()\n",
    "\n",
    "#analiso os resultados do modelo \n",
    "print(modelo_reglog.summary())\n"
   ]
  },
  {
   "cell_type": "markdown",
   "metadata": {},
   "source": [
    "*Grosso modo*, fiz um stepwise do modelo. Uma implementação interessante a ser feito para evitar o trabalho braçal aqui seria o método stepwise de seleção de variáveis, conforme a biblioteca MASS disponibilza no R.\n",
    "\n",
    "Dentro do modelo ajustado, podemos refiná-lo mudando o algoritimo de resolução. Vamos usar o grid search para buscar o melhor algoritmo"
   ]
  },
  {
   "cell_type": "code",
   "execution_count": 63,
   "metadata": {},
   "outputs": [
    {
     "data": {
      "text/plain": [
       "GridSearchCV(cv=None, error_score=nan,\n",
       "             estimator=LogisticRegression(C=1.0, class_weight=None, dual=False,\n",
       "                                          fit_intercept=True,\n",
       "                                          intercept_scaling=1, l1_ratio=None,\n",
       "                                          max_iter=300, multi_class='auto',\n",
       "                                          n_jobs=None, penalty='l2',\n",
       "                                          random_state=None, solver='lbfgs',\n",
       "                                          tol=0.0001, verbose=0,\n",
       "                                          warm_start=False),\n",
       "             iid='deprecated', n_jobs=None,\n",
       "             param_grid=[{'solver': ['newton-cg', 'lbfgs', 'liblinear', 'sag',\n",
       "                                     'saga']}],\n",
       "             pre_dispatch='2*n_jobs', refit=True, return_train_score=False,\n",
       "             scoring=None, verbose=0)"
      ]
     },
     "execution_count": 63,
     "metadata": {},
     "output_type": "execute_result"
    }
   ],
   "source": [
    "regressao_logistica.fit(X_treino1, y_treino)\n",
    "\n",
    "grade = [{'solver':['newton-cg', 'lbfgs', 'liblinear', 'sag', 'saga']}]\n",
    "\n",
    "grade_lr = GridSearchCV(regressao_logistica,grade)\n",
    "\n",
    "grade_lr.fit(X_treino1, y_treino)"
   ]
  },
  {
   "cell_type": "code",
   "execution_count": 64,
   "metadata": {},
   "outputs": [
    {
     "data": {
      "text/plain": [
       "{'solver': 'liblinear'}"
      ]
     },
     "execution_count": 64,
     "metadata": {},
     "output_type": "execute_result"
    }
   ],
   "source": [
    "grade_lr.best_params_"
   ]
  },
  {
   "cell_type": "markdown",
   "metadata": {},
   "source": [
    "Usando o solver liblinear teremos o melhor ajuste."
   ]
  },
  {
   "cell_type": "markdown",
   "metadata": {},
   "source": [
    "Vamos treinar o modelo com **árvore de decisão**. Primeiramente, vamos ajustar com os parâmetros padrão."
   ]
  },
  {
   "cell_type": "code",
   "execution_count": 65,
   "metadata": {},
   "outputs": [
    {
     "data": {
      "text/plain": [
       "DecisionTreeClassifier(ccp_alpha=0.0, class_weight=None, criterion='gini',\n",
       "                       max_depth=None, max_features=None, max_leaf_nodes=None,\n",
       "                       min_impurity_decrease=0.0, min_impurity_split=None,\n",
       "                       min_samples_leaf=1, min_samples_split=2,\n",
       "                       min_weight_fraction_leaf=0.0, presort='deprecated',\n",
       "                       random_state=171, splitter='best')"
      ]
     },
     "execution_count": 65,
     "metadata": {},
     "output_type": "execute_result"
    }
   ],
   "source": [
    "arvore_decisao = DecisionTreeClassifier(random_state=171)\n",
    "\n",
    "arvore_decisao.fit(X_treino, y_treino)"
   ]
  },
  {
   "cell_type": "markdown",
   "metadata": {},
   "source": [
    " Novamente usaremos um grid search sobre o critério (Gini ou entropia), definindo a profundidade da árvore (de 1 a 25) e a fração mínima da amostra para divisão (de 10 a 100%)"
   ]
  },
  {
   "cell_type": "code",
   "execution_count": 66,
   "metadata": {},
   "outputs": [
    {
     "data": {
      "text/plain": [
       "{'criterion': 'entropy', 'max_depth': 6, 'min_samples_split': 0.1}"
      ]
     },
     "execution_count": 66,
     "metadata": {},
     "output_type": "execute_result"
    }
   ],
   "source": [
    "grade = [{'criterion': ['gini', 'entropy'], 'max_depth' : np.linspace(1,25,25, dtype=int), 'min_samples_split' : np.linspace(0.1,1, 9)}]\n",
    "\n",
    "grade_arvore = GridSearchCV(arvore_decisao, grade)\n",
    "\n",
    "grade_arvore.fit(X_treino, y_treino)\n",
    "\n",
    "grade_arvore.best_params_"
   ]
  },
  {
   "cell_type": "markdown",
   "metadata": {},
   "source": [
    "Vamos então usar o random forest. Novamente, ajustaremos com os parâmetros padrão o modelo."
   ]
  },
  {
   "cell_type": "code",
   "execution_count": 67,
   "metadata": {},
   "outputs": [
    {
     "data": {
      "text/plain": [
       "RandomForestClassifier(bootstrap=True, ccp_alpha=0.0, class_weight=None,\n",
       "                       criterion='gini', max_depth=None, max_features='auto',\n",
       "                       max_leaf_nodes=None, max_samples=None,\n",
       "                       min_impurity_decrease=0.0, min_impurity_split=None,\n",
       "                       min_samples_leaf=1, min_samples_split=2,\n",
       "                       min_weight_fraction_leaf=0.0, n_estimators=100,\n",
       "                       n_jobs=None, oob_score=False, random_state=171,\n",
       "                       verbose=0, warm_start=False)"
      ]
     },
     "execution_count": 67,
     "metadata": {},
     "output_type": "execute_result"
    }
   ],
   "source": [
    "floresta = RandomForestClassifier(random_state=171)\n",
    "\n",
    "floresta.fit(X_treino, y_treino)"
   ]
  },
  {
   "cell_type": "markdown",
   "metadata": {},
   "source": [
    "Novamente usaremos um grid search sobre o numero de estimadores (de 1 a 10), o critério (Gini ou entropia), definindo a profundidade da árvore (de 1 a 10) e a fração mínima da amostra para divisão (de 10 a 100%)."
   ]
  },
  {
   "cell_type": "code",
   "execution_count": 68,
   "metadata": {},
   "outputs": [
    {
     "data": {
      "text/plain": [
       "{'criterion': 'entropy',\n",
       " 'max_depth': 14,\n",
       " 'min_samples_split': 0.1,\n",
       " 'n_estimators': 3}"
      ]
     },
     "execution_count": 68,
     "metadata": {},
     "output_type": "execute_result"
    }
   ],
   "source": [
    "grade = [{'n_estimators':np.linspace(1,10,10, dtype=int), 'criterion': ['gini', 'entropy'], \n",
    "          'max_depth' : np.linspace(1,25,25, dtype=int), 'min_samples_split' : np.linspace(0.1,1, 9)}]\n",
    "grade_floresta = GridSearchCV(floresta,grade)\n",
    "\n",
    "grade_floresta.fit(X_treino, y_treino)\n",
    "\n",
    "grade_floresta.best_params_"
   ]
  },
  {
   "cell_type": "markdown",
   "metadata": {},
   "source": [
    "## Avaliação dos modelos"
   ]
  },
  {
   "cell_type": "markdown",
   "metadata": {},
   "source": [
    "Chegamos então a três modelos, mas qual seria o mais adequado?\n",
    "\n",
    "Vamos primeiro avaliar a precisão do modelo, usando um modelo de cross-validation, usando 3 subconjuntos (k-folds).\n",
    "\n",
    "Vamos aplicar no modelo de regressão logística ajustado anteriormente."
   ]
  },
  {
   "cell_type": "code",
   "execution_count": 69,
   "metadata": {},
   "outputs": [
    {
     "data": {
      "text/plain": [
       "array([0.8990465 , 0.89598899, 0.9025757 ])"
      ]
     },
     "execution_count": 69,
     "metadata": {},
     "output_type": "execute_result"
    }
   ],
   "source": [
    "cross_val_score(grade_lr,X_treino1, y_treino,cv=3, scoring='accuracy')"
   ]
  },
  {
   "cell_type": "markdown",
   "metadata": {},
   "source": [
    "Nada mal! O modelo em média atingiu 90% de acurácia. Vamos ver com a árvore de classificação."
   ]
  },
  {
   "cell_type": "code",
   "execution_count": 70,
   "metadata": {},
   "outputs": [
    {
     "data": {
      "text/plain": [
       "array([0.88980635, 0.89009044, 0.89136846])"
      ]
     },
     "execution_count": 70,
     "metadata": {},
     "output_type": "execute_result"
    }
   ],
   "source": [
    "cross_val_score(grade_arvore,X_treino, y_treino,cv=3, scoring='accuracy')"
   ]
  },
  {
   "cell_type": "markdown",
   "metadata": {},
   "source": [
    "Ainda o modelo continua sendo bom, com cerca de 89% de acurácia. Checaremos a random forest."
   ]
  },
  {
   "cell_type": "code",
   "execution_count": 71,
   "metadata": {},
   "outputs": [
    {
     "data": {
      "text/plain": [
       "array([0.88312199, 0.8831105 , 0.88330712])"
      ]
     },
     "execution_count": 71,
     "metadata": {},
     "output_type": "execute_result"
    }
   ],
   "source": [
    "cross_val_score(grade_floresta,X_treino, y_treino,cv=3, scoring='accuracy')"
   ]
  },
  {
   "cell_type": "markdown",
   "metadata": {},
   "source": [
    "O modelo aparentemente ainda continua bom, com 88% de acurácia."
   ]
  },
  {
   "cell_type": "markdown",
   "metadata": {},
   "source": [
    "Os resultados aqui parecem bem promissores para ambos dos modelos. Contudo, um risco que pode surgir na aplicação prática, e que pode representar perda financeira na hora de lançarmos a campanha é contactar um cliente que estimamos que iria adquirir, mas que na verdade não iria adquirir o produto.\n",
    "\n",
    "Pensando que cada ligação tem um custo, esse risco deve ser ponderado na hora de avaliarmos os modelos. Uma segunda avaliação, além das taxas de acurácia, é a taxa de precisão e de revocação. Iremos escrever uma função que desenha a matriz de confusão de cada modelo, e calcula a taxa de precisão e de revocação, e a estatística F1."
   ]
  },
  {
   "cell_type": "code",
   "execution_count": 72,
   "metadata": {},
   "outputs": [],
   "source": [
    "def avaliacao_confusao(modelo,X_treino, y_treino):\n",
    "    ### funcao avaliacao_confusao\n",
    "    ### entrada:\n",
    "    ###  modelo: modelo ajustado\n",
    "    ###  X_treino: amostra de treino das variáveis explicativas\n",
    "    ###  y_treino: amostra de treino das variáveis respostas\n",
    "    ### saída:\n",
    "    ###  matriz de confusão, estatísticas de precisão, revocação e F1\n",
    "    ### efetua a avaliação do modelo com base na matriz de confusão\n",
    "    # primeiramente, calculamos as previsões\n",
    "    y_predito = modelo.predict(X_treino)\n",
    "    # depois ajustamos a matriz de confusão\n",
    "    confusao = confusion_matrix(y_treino, y_predito)\n",
    "    print(\"Matriz de confusão\")\n",
    "    print(confusao)\n",
    "    # a seguir, calculamos as estatísticas\n",
    "    precisao = precision_score(y_treino, y_predito)\n",
    "    revoca = recall_score(y_treino, y_predito)\n",
    "    f1 = f1_score(y_treino, y_predito)\n",
    "    print(\"Taxa de precisão: \", round(precisao,4),\\\n",
    "          \"\\nTaxa de revocação:\", round(revoca,4),\\\n",
    "          \"\\nEscore F1: \", round(f1,4))"
   ]
  },
  {
   "cell_type": "markdown",
   "metadata": {},
   "source": [
    "Vamos avaliar o modelo de regressão logística."
   ]
  },
  {
   "cell_type": "code",
   "execution_count": 73,
   "metadata": {},
   "outputs": [
    {
     "name": "stdout",
     "output_type": "stream",
     "text": [
      "Matriz de confusão\n",
      "[[26185   744]\n",
      " [ 2307  1281]]\n",
      "Taxa de precisão:  0.6326 \n",
      "Taxa de revocação: 0.357 \n",
      "Escore F1:  0.4564\n"
     ]
    }
   ],
   "source": [
    "avaliacao_confusao(grade_lr,X_treino1, y_treino)"
   ]
  },
  {
   "cell_type": "markdown",
   "metadata": {},
   "source": [
    "Sob a óptica da matriz de confusão, note que ela classifica incorretamente 2307 clientes que não são adquirintes do produto como quem vai aderir ao produto. Ele classificou corretamente 63% dos casos, mas detecta apenas 35% dos clientes adquirintes do produto.\n",
    "\n",
    "Vamos checar se a árvore de precisão é um pouco melhor."
   ]
  },
  {
   "cell_type": "code",
   "execution_count": 74,
   "metadata": {},
   "outputs": [
    {
     "name": "stdout",
     "output_type": "stream",
     "text": [
      "Matriz de confusão\n",
      "[[26555   374]\n",
      " [ 2941   647]]\n",
      "Taxa de precisão:  0.6337 \n",
      "Taxa de revocação: 0.1803 \n",
      "Escore F1:  0.2808\n"
     ]
    }
   ],
   "source": [
    "avaliacao_confusao(grade_arvore,X_treino, y_treino)"
   ]
  },
  {
   "cell_type": "markdown",
   "metadata": {},
   "source": [
    "Apesar da precisão do modelo estar próximo do modelo de regressão logística, ele perde na hora de classificar corretamente os adquirintes dos produtos - cerca de 18% são classificados corretamente."
   ]
  },
  {
   "cell_type": "code",
   "execution_count": 75,
   "metadata": {},
   "outputs": [
    {
     "name": "stdout",
     "output_type": "stream",
     "text": [
      "Matriz de confusão\n",
      "[[26896    33]\n",
      " [ 3510    78]]\n",
      "Taxa de precisão:  0.7027 \n",
      "Taxa de revocação: 0.0217 \n",
      "Escore F1:  0.0422\n"
     ]
    }
   ],
   "source": [
    "avaliacao_confusao(grade_floresta,X_treino, y_treino)"
   ]
  },
  {
   "cell_type": "markdown",
   "metadata": {},
   "source": [
    "A avaliação da random forest é ainda pior no sentido de que ele consegue detectar  2% dos casos de novos adquirintes do produto, embora ele tenha classificado corretamente 70% dos casos - estatística essa alavancada pela alta taxa de não adquirintes que o modelo consegue classificar corretamente, o que não é o objetivo do modelo.\n",
    "\n",
    "Um jeito fácil de decidirmos quais dos três modelos iremos seguir é compararmos as curvas ROC, calcular a área sobre a curva ROC e selecionar o máximo."
   ]
  },
  {
   "cell_type": "code",
   "execution_count": 76,
   "metadata": {},
   "outputs": [],
   "source": [
    "def avaliacao_ROC(modelo,X_treino, y_treino):\n",
    "    ### funcao avaliacao_ROC\n",
    "    ### entrada:\n",
    "    ###  modelo: modelo ajustado\n",
    "    ###  X_treino: amostra de treino das variáveis explicativas\n",
    "    ###  y_treino: amostra de treino das variáveis respostas\n",
    "    ### saída:\n",
    "    ###  tpr, fpr: taxa de verdadeiros/falsos positivos para a curva ROC\n",
    "    ###  roc: escore ROC (área sob a curva)\n",
    "    ### efetua a avaliação do modelo com base na curva ROC\n",
    "    # primeiramente, calculamos as previsões\n",
    "    y_predito = modelo.predict(X_treino)\n",
    "    # depois ajustamos a curva ROC\n",
    "    fpr, tpr,thresholds = roc_curve(y_treino, y_predito)\n",
    "    # a seguir, calculamos o score ROC\n",
    "    roc = roc_auc_score(y_treino, y_predito)\n",
    "    return(fpr,tpr,roc)"
   ]
  },
  {
   "cell_type": "code",
   "execution_count": 77,
   "metadata": {},
   "outputs": [],
   "source": [
    "tpr_lr, fpr_lr, roc_lr = avaliacao_ROC(grade_lr,X_treino1,y_treino )\n",
    "tpr_fl, fpr_fl, roc_fl = avaliacao_ROC(grade_floresta,X_treino,y_treino )\n",
    "tpr_ar, fpr_ar, roc_ar = avaliacao_ROC(grade_arvore,X_treino,y_treino )"
   ]
  },
  {
   "cell_type": "markdown",
   "metadata": {},
   "source": [
    "Vamos levantar as curvas ROC e a área sob a curva. "
   ]
  },
  {
   "cell_type": "code",
   "execution_count": 78,
   "metadata": {},
   "outputs": [
    {
     "data": {
      "text/plain": [
       "<matplotlib.legend.Legend at 0x1a28381310>"
      ]
     },
     "execution_count": 78,
     "metadata": {},
     "output_type": "execute_result"
    },
    {
     "data": {
      "image/png": "[encoded data removed]",
      "text/plain": [
       "<Figure size 432x288 with 1 Axes>"
      ]
     },
     "metadata": {
      "needs_background": "light"
     },
     "output_type": "display_data"
    }
   ],
   "source": [
    "plt.plot(tpr_lr, fpr_lr, linewidth=2,label = \"Reg. Logistica\"+\" AUC:\"+str(round(roc_lr,2)))\n",
    "plt.plot(tpr_fl, fpr_fl, linewidth=2,label = \"Random forest\"+\" AUC:\"+str(round(roc_fl,2)))\n",
    "plt.plot(tpr_ar, fpr_ar, linewidth=2,label = \"Àrvore de class.\"+\" AUC:\"+str(round(roc_ar,2)))\n",
    "plt.legend(loc=\"lower right\")"
   ]
  },
  {
   "cell_type": "markdown",
   "metadata": {},
   "source": [
    "O random forest pode ser considerado um classificador aleatório, dado que a AUC dele é de 0.51  - ou seja, esse classificador não performaria melhor do que se, para cada cliente, a gente decidisse no cara e coroa se é um cliente que seria adquirinte ou não.\n",
    "\n",
    "Dentre os três, o modelo de regressão logística foi o que perfomou \"melhor\" com uma AUC de 0.66. \n",
    "\n",
    "Vamos testá-lo na amostra de teste. Novamente selecionamos apenas as variáveis necessárias ao modelo e ajustamos."
   ]
  },
  {
   "cell_type": "code",
   "execution_count": 79,
   "metadata": {},
   "outputs": [],
   "source": [
    "#removo as variáveis não significativas\n",
    "X_teste1 = X_teste.drop(['job_student',\n",
    "                         'job_admin.',\n",
    "                         'job_retired',\n",
    "                         'balance_quantile_3 De 227 a 648 euros',\n",
    "                         'job_management',\n",
    "                         'job_technician',\n",
    "                         'balance_quantile_4 De 648 a 1766 euros',\n",
    "                         'balance_quantile_5 Acima de 1766 euros'  ,\n",
    "                         'marital_divorced' ,\n",
    "                         'month_apr'  ,\n",
    "                         'month_feb',\n",
    "                         'month_jun'  ,\n",
    "                         'age_categorizado_5 De 60 a 70 anos'   ,   \n",
    "                         'age_categorizado_6 Acima de 70 anos' ], axis=1)"
   ]
  },
  {
   "cell_type": "markdown",
   "metadata": {},
   "source": [
    "Faço aqui a a avaliação da matriz de confusão e da curva ROC para ver se os valores estão próximos da amostra de treino."
   ]
  },
  {
   "cell_type": "code",
   "execution_count": 80,
   "metadata": {},
   "outputs": [
    {
     "name": "stdout",
     "output_type": "stream",
     "text": [
      "Matriz de confusão\n",
      "[[8709  265]\n",
      " [ 791  408]]\n",
      "Taxa de precisão:  0.6062 \n",
      "Taxa de revocação: 0.3403 \n",
      "Escore F1:  0.4359\n"
     ]
    }
   ],
   "source": [
    "avaliacao_confusao(grade_lr,X_teste1, y_teste)"
   ]
  },
  {
   "cell_type": "code",
   "execution_count": 81,
   "metadata": {},
   "outputs": [
    {
     "data": {
      "text/plain": [
       "0.6553769085113458"
      ]
     },
     "execution_count": 81,
     "metadata": {},
     "output_type": "execute_result"
    },
    {
     "data": {
      "image/png": "[encoded data removed]",
      "text/plain": [
       "<Figure size 432x288 with 1 Axes>"
      ]
     },
     "metadata": {
      "needs_background": "light"
     },
     "output_type": "display_data"
    }
   ],
   "source": [
    "tpr_lr, fpr_lr, roc_lr = avaliacao_ROC(grade_lr,X_teste1,y_teste )\n",
    "plt.plot(tpr_lr, fpr_lr, linewidth=2,label = \"Reg. Logistica\"+\" AUC:\"+str(round(roc_lr,2)))\n",
    "plt.plot([0, 1],[0, 1], 'k--')\n",
    "roc_lr"
   ]
  },
  {
   "cell_type": "markdown",
   "metadata": {},
   "source": [
    "Aparentemente, nada anormal com o ajuste na amostra de teste.\n",
    "\n",
    "Vamos finalmente gerar a coluna y'(y_hat) de respostas\n",
    "\n"
   ]
  },
  {
   "cell_type": "code",
   "execution_count": 82,
   "metadata": {},
   "outputs": [],
   "source": [
    "#removo as variáveis não significativas\n",
    "explicativas1 = explicativas.drop(['job_student',\n",
    "                                   'job_admin.',\n",
    "                                   'job_retired',\n",
    "                                   'balance_quantile_3 De 227 a 648 euros',\n",
    "                                   'job_management',\n",
    "                                   'job_technician',\n",
    "                                   'balance_quantile_4 De 648 a 1766 euros',\n",
    "                                   'balance_quantile_5 Acima de 1766 euros'  ,\n",
    "                                   'marital_divorced' ,\n",
    "                                   'month_apr'  ,\n",
    "                                   'month_feb',\n",
    "                                   'month_jun'  ,\n",
    "                                   'age_categorizado_5 De 60 a 70 anos'   ,  \n",
    "                                   'age_categorizado_6 Acima de 70 anos' ], axis=1)"
   ]
  },
  {
   "cell_type": "code",
   "execution_count": 83,
   "metadata": {},
   "outputs": [],
   "source": [
    "campanhas['y_hat'] = grade_lr.predict(explicativas1)\n"
   ]
  },
  {
   "cell_type": "markdown",
   "metadata": {},
   "source": [
    "\n",
    "## Plano de ação sugerido\n",
    "\n",
    "* No que se refere a como e quando abordar o cliente, é necessário observamos alguns pontos:\n",
    " * A duração da ligação tem um fator importante para predizer se o cliente vai se inscrever ou não no produto, possivelmente, por conta de que o cliente tenha interesse no mesmo. \n",
    " * Reabordagens podem ser uma estratégia interessante, pois clientes reabordados apresentaram maiores chances de se inscreverem ao produto que não abordados, independente se foi com sucesso ou não. No entanto, é necessário cautela na quantidade de vezes que o cliente seria reabordado, pois clientes que foram abordados mais de três vezes apresentaram menores chances de se inscreverem ao produto. Um numero prudente de vezes que cada cliente poderia ser abordado seria três, pois daria chances para ter pelo menos uma abordagem com sucesso.\n",
    " * Aparentemente, clientes tem maiores chances de se inscreverem no começo do mês, usualmente no dia primeiro. Uma campanha efetiva pode ser construída no começo do mês.\n",
    " * A abordagem por celular apresentou maior taxa de inscrição que os demais canais. Dado a versatilidade do canal, e nem sempre o cliente teria a disponibilidade e/ou imagina que a ligação ofertando o produto seja golpe, pode-se considerar algumas outras estratégias de abordagens usando o canal (por exemplo, SMS, Whatsapp).\n",
    "\n",
    "* No que diz respeito ao público abordável, conseguimos *grosso modo* traçar algumas características propensa a se inscrever. \n",
    " * São clientes ou jovens (abaixo de 30 anos) ou clientes idosos (acima de 70 anos);\n",
    " * São estudantes, aposentados ou técnicos;\n",
    " * Não estão casados;\n",
    " * Não possuem nenhum tipo de empréstimo.\n",
    " \n",
    "* Usamos modelos simples para o problema. Podemos melhorar os modelos, usando o XGBoost como uma alternativa, modelos de redes neurais, etc.\n",
    "\n"
   ]
  }
 ],
 "metadata": {
  "kernelspec": {
   "display_name": "Python 3",
   "language": "python",
   "name": "python3"
  },
  "language_info": {
   "codemirror_mode": {
    "name": "ipython",
    "version": 3
   },
   "file_extension": ".py",
   "mimetype": "text/x-python",
   "name": "python",
   "nbconvert_exporter": "python",
   "pygments_lexer": "ipython3",
   "version": "3.7.6"
  }
 },
 "nbformat": 4,
 "nbformat_minor": 4
}
